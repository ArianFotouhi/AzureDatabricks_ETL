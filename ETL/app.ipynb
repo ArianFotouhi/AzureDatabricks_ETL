{
 "cells": [
  {
   "cell_type": "markdown",
   "metadata": {
    "application/vnd.databricks.v1+cell": {
     "cellMetadata": {},
     "inputWidgets": {},
     "nuid": "8e00f814-803c-4ae3-92c5-15241bf3f8db",
     "showTitle": false,
     "title": ""
    }
   },
   "source": [
    "# ETL using Databricks & Azure Data Lake"
   ]
  },
  {
   "cell_type": "markdown",
   "metadata": {
    "application/vnd.databricks.v1+cell": {
     "cellMetadata": {},
     "inputWidgets": {},
     "nuid": "62091eb2-838e-462c-829f-94e8023ace4d",
     "showTitle": false,
     "title": ""
    }
   },
   "source": [
    "## Extraction"
   ]
  },
  {
   "cell_type": "code",
   "execution_count": 0,
   "metadata": {
    "application/vnd.databricks.v1+cell": {
     "cellMetadata": {
      "byteLimit": 2048000,
      "rowLimit": 10000
     },
     "inputWidgets": {},
     "nuid": "81606787-9412-4d02-986d-546ff96c9912",
     "showTitle": false,
     "title": ""
    }
   },
   "outputs": [],
   "source": [
    "# %run \"configuration\"\n",
    "# dl_spec = datalake_spec\n",
    "# dl_key = datalake_key\n",
    "\n"
   ]
  },
  {
   "cell_type": "code",
   "execution_count": 0,
   "metadata": {
    "application/vnd.databricks.v1+cell": {
     "cellMetadata": {
      "byteLimit": 2048000,
      "rowLimit": 10000
     },
     "inputWidgets": {},
     "nuid": "1afe6db6-2a36-4729-90a0-d89ab41ce68a",
     "showTitle": false,
     "title": ""
    }
   },
   "outputs": [],
   "source": [
    "spark.conf.set(\n",
    "    dl_spec,\n",
    "    dl_key\n",
    ")"
   ]
  },
  {
   "cell_type": "code",
   "execution_count": 0,
   "metadata": {
    "application/vnd.databricks.v1+cell": {
     "cellMetadata": {
      "byteLimit": 2048000,
      "rowLimit": 10000
     },
     "inputWidgets": {},
     "nuid": "3f4f4426-4712-4bac-9ee4-bcaeb0b2b148",
     "showTitle": false,
     "title": ""
    }
   },
   "outputs": [],
   "source": [
    "circuits_df = spark.read.option(\"header\",True).csv(\"abfss://container@arianazuredl1.dfs.core.windows.net/circuits.csv\")\n",
    "races_df = spark.read.option(\"header\",True).csv(\"abfss://container@arianazuredl1.dfs.core.windows.net/races.csv\")\n"
   ]
  },
  {
   "cell_type": "code",
   "execution_count": 0,
   "metadata": {
    "application/vnd.databricks.v1+cell": {
     "cellMetadata": {
      "byteLimit": 2048000,
      "rowLimit": 10000
     },
     "inputWidgets": {},
     "nuid": "31b8cc60-d6ba-428d-a826-d8244d98814a",
     "showTitle": false,
     "title": ""
    }
   },
   "outputs": [
    {
     "output_type": "stream",
     "name": "stdout",
     "output_type": "stream",
     "text": [
      "+---------+--------------+--------------------+------------+---------+--------+---------+---+--------------------+\n|circuitId|    circuitRef|                name|    location|  country|     lat|      lng|alt|                 url|\n+---------+--------------+--------------------+------------+---------+--------+---------+---+--------------------+\n|        1|   albert_park|Albert Park Grand...|   Melbourne|Australia|-37.8497|  144.968| 10|http://en.wikiped...|\n|        2|        sepang|Sepang Internatio...|Kuala Lumpur| Malaysia| 2.76083|  101.738| 18|http://en.wikiped...|\n|        3|       bahrain|Bahrain Internati...|      Sakhir|  Bahrain| 26.0325|  50.5106|  7|http://en.wikiped...|\n|        4|     catalunya|Circuit de Barcel...|    Montmeló|    Spain|   41.57|  2.26111|109|http://en.wikiped...|\n|        5|      istanbul|       Istanbul Park|    Istanbul|   Turkey| 40.9517|   29.405|130|http://en.wikiped...|\n|        6|        monaco|   Circuit de Monaco| Monte-Carlo|   Monaco| 43.7347|  7.42056|  7|http://en.wikiped...|\n|        7|    villeneuve|Circuit Gilles Vi...|    Montreal|   Canada|    45.5| -73.5228| 13|http://en.wikiped...|\n|        8|   magny_cours|Circuit de Nevers...| Magny Cours|   France| 46.8642|  3.16361|228|http://en.wikiped...|\n|        9|   silverstone| Silverstone Circuit| Silverstone|       UK| 52.0786| -1.01694|153|http://en.wikiped...|\n|       10|hockenheimring|      Hockenheimring|  Hockenheim|  Germany| 49.3278|  8.56583|103|http://en.wikiped...|\n|       11|   hungaroring|         Hungaroring|    Budapest|  Hungary| 47.5789|  19.2486|264|http://en.wikiped...|\n|       12|      valencia|Valencia Street C...|    Valencia|    Spain| 39.4589|-0.331667|  4|http://en.wikiped...|\n|       13|           spa|Circuit de Spa-Fr...|         Spa|  Belgium| 50.4372|  5.97139|401|http://en.wikiped...|\n|       14|         monza|Autodromo Naziona...|       Monza|    Italy| 45.6156|  9.28111|162|http://en.wikiped...|\n|       15|    marina_bay|Marina Bay Street...|  Marina Bay|Singapore|  1.2914|  103.864| 18|http://en.wikiped...|\n|       16|          fuji|       Fuji Speedway|       Oyama|    Japan| 35.3717|  138.927|583|http://en.wikiped...|\n|       17|      shanghai|Shanghai Internat...|    Shanghai|    China| 31.3389|   121.22|  5|http://en.wikiped...|\n|       18|    interlagos|Autódromo José Ca...|   São Paulo|   Brazil|-23.7036| -46.6997|785|http://en.wikiped...|\n|       19|  indianapolis|Indianapolis Moto...|Indianapolis|      USA|  39.795| -86.2347|223|http://en.wikiped...|\n|       20|   nurburgring|         Nürburgring|     Nürburg|  Germany| 50.3356|   6.9475|578|http://en.wikiped...|\n+---------+--------------+--------------------+------------+---------+--------+---------+---+--------------------+\nonly showing top 20 rows\n\n"
     ]
    }
   ],
   "source": [
    "circuits_df.show()\n",
    "# display(circuits_df)"
   ]
  },
  {
   "cell_type": "code",
   "execution_count": 0,
   "metadata": {
    "application/vnd.databricks.v1+cell": {
     "cellMetadata": {
      "byteLimit": 2048000,
      "rowLimit": 10000
     },
     "inputWidgets": {},
     "nuid": "5c2baa58-3f58-403a-b816-ad1624c1b857",
     "showTitle": false,
     "title": ""
    }
   },
   "outputs": [
    {
     "output_type": "stream",
     "name": "stdout",
     "output_type": "stream",
     "text": [
      "+------+----+-----+---------+--------------------+----------+--------+--------------------+\n|raceId|year|round|circuitId|                name|      date|    time|                 url|\n+------+----+-----+---------+--------------------+----------+--------+--------------------+\n|     1|2009|    1|        1|Australian Grand ...|2009-03-29|06:00:00|http://en.wikiped...|\n|     2|2009|    2|        2|Malaysian Grand Prix|2009-04-05|09:00:00|http://en.wikiped...|\n|     3|2009|    3|       17|  Chinese Grand Prix|2009-04-19|07:00:00|http://en.wikiped...|\n|     4|2009|    4|        3|  Bahrain Grand Prix|2009-04-26|12:00:00|http://en.wikiped...|\n|     5|2009|    5|        4|  Spanish Grand Prix|2009-05-10|12:00:00|http://en.wikiped...|\n|     6|2009|    6|        6|   Monaco Grand Prix|2009-05-24|12:00:00|http://en.wikiped...|\n|     7|2009|    7|        5|  Turkish Grand Prix|2009-06-07|12:00:00|http://en.wikiped...|\n|     8|2009|    8|        9|  British Grand Prix|2009-06-21|12:00:00|http://en.wikiped...|\n|     9|2009|    9|       20|   German Grand Prix|2009-07-12|12:00:00|http://en.wikiped...|\n|    10|2009|   10|       11|Hungarian Grand Prix|2009-07-26|12:00:00|http://en.wikiped...|\n|    11|2009|   11|       12| European Grand Prix|2009-08-23|12:00:00|http://en.wikiped...|\n|    12|2009|   12|       13|  Belgian Grand Prix|2009-08-30|12:00:00|http://en.wikiped...|\n|    13|2009|   13|       14|  Italian Grand Prix|2009-09-13|12:00:00|http://en.wikiped...|\n|    14|2009|   14|       15|Singapore Grand Prix|2009-09-27|12:00:00|http://en.wikiped...|\n|    15|2009|   15|       22| Japanese Grand Prix|2009-10-04|05:00:00|http://en.wikiped...|\n|    16|2009|   16|       18|Brazilian Grand Prix|2009-10-18|16:00:00|http://en.wikiped...|\n|    17|2009|   17|       24|Abu Dhabi Grand Prix|2009-11-01|11:00:00|http://en.wikiped...|\n|    18|2008|    1|        1|Australian Grand ...|2008-03-16|04:30:00|http://en.wikiped...|\n|    19|2008|    2|        2|Malaysian Grand Prix|2008-03-23|07:00:00|http://en.wikiped...|\n|    20|2008|    3|        3|  Bahrain Grand Prix|2008-04-06|11:30:00|http://en.wikiped...|\n+------+----+-----+---------+--------------------+----------+--------+--------------------+\nonly showing top 20 rows\n\n"
     ]
    }
   ],
   "source": [
    "races_df.show()"
   ]
  },
  {
   "cell_type": "code",
   "execution_count": 0,
   "metadata": {
    "application/vnd.databricks.v1+cell": {
     "cellMetadata": {
      "byteLimit": 2048000,
      "rowLimit": 10000
     },
     "inputWidgets": {},
     "nuid": "18241053-dfb4-407e-a194-d7489bb4ad4d",
     "showTitle": false,
     "title": ""
    }
   },
   "outputs": [
    {
     "output_type": "stream",
     "name": "stdout",
     "output_type": "stream",
     "text": [
      "root\n |-- circuitId: string (nullable = true)\n |-- circuitRef: string (nullable = true)\n |-- name: string (nullable = true)\n |-- location: string (nullable = true)\n |-- country: string (nullable = true)\n |-- lat: string (nullable = true)\n |-- lng: string (nullable = true)\n |-- alt: string (nullable = true)\n |-- url: string (nullable = true)\n\n"
     ]
    }
   ],
   "source": [
    "circuits_df.printSchema()\n",
    "#circuits_df.describe().show()"
   ]
  },
  {
   "cell_type": "code",
   "execution_count": 0,
   "metadata": {
    "application/vnd.databricks.v1+cell": {
     "cellMetadata": {
      "byteLimit": 2048000,
      "rowLimit": 10000
     },
     "inputWidgets": {},
     "nuid": "4a613f41-3944-4262-ba5d-64b05548a808",
     "showTitle": false,
     "title": ""
    }
   },
   "outputs": [
    {
     "output_type": "stream",
     "name": "stdout",
     "output_type": "stream",
     "text": [
      "root\n |-- raceId: string (nullable = true)\n |-- year: string (nullable = true)\n |-- round: string (nullable = true)\n |-- circuitId: string (nullable = true)\n |-- name: string (nullable = true)\n |-- date: string (nullable = true)\n |-- time: string (nullable = true)\n |-- url: string (nullable = true)\n\n"
     ]
    }
   ],
   "source": [
    "races_df.printSchema()"
   ]
  },
  {
   "cell_type": "markdown",
   "metadata": {
    "application/vnd.databricks.v1+cell": {
     "cellMetadata": {},
     "inputWidgets": {},
     "nuid": "f7eb3086-5421-42c6-a7ba-c52ba4c934f5",
     "showTitle": false,
     "title": ""
    }
   },
   "source": [
    "## Transform"
   ]
  },
  {
   "cell_type": "markdown",
   "metadata": {
    "application/vnd.databricks.v1+cell": {
     "cellMetadata": {},
     "inputWidgets": {},
     "nuid": "09534701-6b1a-4668-9fad-a749c225f659",
     "showTitle": false,
     "title": ""
    }
   },
   "source": [
    "#### Pick up the required columns"
   ]
  },
  {
   "cell_type": "code",
   "execution_count": 0,
   "metadata": {
    "application/vnd.databricks.v1+cell": {
     "cellMetadata": {
      "byteLimit": 2048000,
      "rowLimit": 10000
     },
     "inputWidgets": {},
     "nuid": "5d75670d-d616-48b4-b2c9-7b63e6d18e94",
     "showTitle": false,
     "title": ""
    }
   },
   "outputs": [],
   "source": [
    "from pyspark.sql.functions import col"
   ]
  },
  {
   "cell_type": "code",
   "execution_count": 0,
   "metadata": {
    "application/vnd.databricks.v1+cell": {
     "cellMetadata": {
      "byteLimit": 2048000,
      "rowLimit": 10000
     },
     "inputWidgets": {},
     "nuid": "64723740-2a74-405e-bd61-d13e3e390df2",
     "showTitle": false,
     "title": ""
    }
   },
   "outputs": [],
   "source": [
    "circuits_selected_df = circuits_df.select(col(\"circuitId\").alias(\"circuit_id\"), col(\"circuitRef\").alias(\"circuit_ref\"), col(\"name\"),\n",
    "                                          col(\"location\"), col(\"country\"), col(\"lat\").alias(\"latitude\"), col(\"lng\").alias(\"longitude\"), col(\"alt\").alias(\"altitude\"))"
   ]
  },
  {
   "cell_type": "code",
   "execution_count": 0,
   "metadata": {
    "application/vnd.databricks.v1+cell": {
     "cellMetadata": {
      "byteLimit": 2048000,
      "rowLimit": 10000
     },
     "inputWidgets": {},
     "nuid": "a6485aaa-8a4b-42b2-8868-06c90423288f",
     "showTitle": false,
     "title": ""
    }
   },
   "outputs": [
    {
     "output_type": "stream",
     "name": "stdout",
     "output_type": "stream",
     "text": [
      "+----------+--------------+--------------------+------------+---------+--------+---------+--------+\n|circuit_id|   circuit_ref|                name|    location|  country|latitude|longitude|altitude|\n+----------+--------------+--------------------+------------+---------+--------+---------+--------+\n|         1|   albert_park|Albert Park Grand...|   Melbourne|Australia|-37.8497|  144.968|      10|\n|         2|        sepang|Sepang Internatio...|Kuala Lumpur| Malaysia| 2.76083|  101.738|      18|\n|         3|       bahrain|Bahrain Internati...|      Sakhir|  Bahrain| 26.0325|  50.5106|       7|\n|         4|     catalunya|Circuit de Barcel...|    Montmeló|    Spain|   41.57|  2.26111|     109|\n|         5|      istanbul|       Istanbul Park|    Istanbul|   Turkey| 40.9517|   29.405|     130|\n|         6|        monaco|   Circuit de Monaco| Monte-Carlo|   Monaco| 43.7347|  7.42056|       7|\n|         7|    villeneuve|Circuit Gilles Vi...|    Montreal|   Canada|    45.5| -73.5228|      13|\n|         8|   magny_cours|Circuit de Nevers...| Magny Cours|   France| 46.8642|  3.16361|     228|\n|         9|   silverstone| Silverstone Circuit| Silverstone|       UK| 52.0786| -1.01694|     153|\n|        10|hockenheimring|      Hockenheimring|  Hockenheim|  Germany| 49.3278|  8.56583|     103|\n|        11|   hungaroring|         Hungaroring|    Budapest|  Hungary| 47.5789|  19.2486|     264|\n|        12|      valencia|Valencia Street C...|    Valencia|    Spain| 39.4589|-0.331667|       4|\n|        13|           spa|Circuit de Spa-Fr...|         Spa|  Belgium| 50.4372|  5.97139|     401|\n|        14|         monza|Autodromo Naziona...|       Monza|    Italy| 45.6156|  9.28111|     162|\n|        15|    marina_bay|Marina Bay Street...|  Marina Bay|Singapore|  1.2914|  103.864|      18|\n|        16|          fuji|       Fuji Speedway|       Oyama|    Japan| 35.3717|  138.927|     583|\n|        17|      shanghai|Shanghai Internat...|    Shanghai|    China| 31.3389|   121.22|       5|\n|        18|    interlagos|Autódromo José Ca...|   São Paulo|   Brazil|-23.7036| -46.6997|     785|\n|        19|  indianapolis|Indianapolis Moto...|Indianapolis|      USA|  39.795| -86.2347|     223|\n|        20|   nurburgring|         Nürburgring|     Nürburg|  Germany| 50.3356|   6.9475|     578|\n+----------+--------------+--------------------+------------+---------+--------+---------+--------+\nonly showing top 20 rows\n\n"
     ]
    }
   ],
   "source": [
    "circuits_selected_df.show()"
   ]
  },
  {
   "cell_type": "markdown",
   "metadata": {
    "application/vnd.databricks.v1+cell": {
     "cellMetadata": {},
     "inputWidgets": {},
     "nuid": "80b59d51-3062-46bf-ab3f-fc8289cdcdbd",
     "showTitle": false,
     "title": ""
    }
   },
   "source": [
    "#### Adding ingestion date as a column "
   ]
  },
  {
   "cell_type": "code",
   "execution_count": 0,
   "metadata": {
    "application/vnd.databricks.v1+cell": {
     "cellMetadata": {
      "byteLimit": 2048000,
      "rowLimit": 10000
     },
     "inputWidgets": {},
     "nuid": "9d3596e5-d64c-4d8b-b13a-b70a9f7d3910",
     "showTitle": false,
     "title": ""
    }
   },
   "outputs": [],
   "source": [
    "from pyspark.sql.functions import current_timestamp"
   ]
  },
  {
   "cell_type": "code",
   "execution_count": 0,
   "metadata": {
    "application/vnd.databricks.v1+cell": {
     "cellMetadata": {
      "byteLimit": 2048000,
      "rowLimit": 10000
     },
     "inputWidgets": {},
     "nuid": "a2173f26-3c09-4ee1-98cd-342327892cd4",
     "showTitle": false,
     "title": ""
    }
   },
   "outputs": [],
   "source": [
    "circuits_added_df = circuits_selected_df.withColumn(\"ingestion_date\",current_timestamp())"
   ]
  },
  {
   "cell_type": "code",
   "execution_count": 0,
   "metadata": {
    "application/vnd.databricks.v1+cell": {
     "cellMetadata": {
      "byteLimit": 2048000,
      "rowLimit": 10000
     },
     "inputWidgets": {},
     "nuid": "c1002fd7-70c3-4a70-b5ea-513dcb8e5682",
     "showTitle": false,
     "title": ""
    }
   },
   "outputs": [],
   "source": [
    "from pyspark.sql.functions import current_timestamp, lit, to_timestamp, concat, col"
   ]
  },
  {
   "cell_type": "code",
   "execution_count": 0,
   "metadata": {
    "application/vnd.databricks.v1+cell": {
     "cellMetadata": {
      "byteLimit": 2048000,
      "rowLimit": 10000
     },
     "inputWidgets": {},
     "nuid": "ad2bc35a-06c0-44be-8ea7-88d4d0f4d052",
     "showTitle": false,
     "title": ""
    }
   },
   "outputs": [],
   "source": [
    "races_with_timestamp_df = races_df.withColumn(\"ingestion_date\",current_timestamp()) \\\n",
    "                                .withColumn(\"race_timestamp\", to_timestamp(concat(col('date'), lit(' '), col('time')), 'yyyy-MM-dd HH:mm:ss'))\n"
   ]
  },
  {
   "cell_type": "code",
   "execution_count": 0,
   "metadata": {
    "application/vnd.databricks.v1+cell": {
     "cellMetadata": {
      "byteLimit": 2048000,
      "rowLimit": 10000
     },
     "inputWidgets": {},
     "nuid": "daf209d1-f807-4c7c-a26c-71277100b2e2",
     "showTitle": false,
     "title": ""
    }
   },
   "outputs": [
    {
     "output_type": "stream",
     "name": "stdout",
     "output_type": "stream",
     "text": [
      "+------+----+-----+---------+--------------------+----------+--------+--------------------+--------------------+-------------------+\n|raceId|year|round|circuitId|                name|      date|    time|                 url|      ingestion_date|     race_timestamp|\n+------+----+-----+---------+--------------------+----------+--------+--------------------+--------------------+-------------------+\n|     1|2009|    1|        1|Australian Grand ...|2009-03-29|06:00:00|http://en.wikiped...|2023-09-14 18:53:...|2009-03-29 06:00:00|\n|     2|2009|    2|        2|Malaysian Grand Prix|2009-04-05|09:00:00|http://en.wikiped...|2023-09-14 18:53:...|2009-04-05 09:00:00|\n|     3|2009|    3|       17|  Chinese Grand Prix|2009-04-19|07:00:00|http://en.wikiped...|2023-09-14 18:53:...|2009-04-19 07:00:00|\n|     4|2009|    4|        3|  Bahrain Grand Prix|2009-04-26|12:00:00|http://en.wikiped...|2023-09-14 18:53:...|2009-04-26 12:00:00|\n|     5|2009|    5|        4|  Spanish Grand Prix|2009-05-10|12:00:00|http://en.wikiped...|2023-09-14 18:53:...|2009-05-10 12:00:00|\n|     6|2009|    6|        6|   Monaco Grand Prix|2009-05-24|12:00:00|http://en.wikiped...|2023-09-14 18:53:...|2009-05-24 12:00:00|\n|     7|2009|    7|        5|  Turkish Grand Prix|2009-06-07|12:00:00|http://en.wikiped...|2023-09-14 18:53:...|2009-06-07 12:00:00|\n|     8|2009|    8|        9|  British Grand Prix|2009-06-21|12:00:00|http://en.wikiped...|2023-09-14 18:53:...|2009-06-21 12:00:00|\n|     9|2009|    9|       20|   German Grand Prix|2009-07-12|12:00:00|http://en.wikiped...|2023-09-14 18:53:...|2009-07-12 12:00:00|\n|    10|2009|   10|       11|Hungarian Grand Prix|2009-07-26|12:00:00|http://en.wikiped...|2023-09-14 18:53:...|2009-07-26 12:00:00|\n|    11|2009|   11|       12| European Grand Prix|2009-08-23|12:00:00|http://en.wikiped...|2023-09-14 18:53:...|2009-08-23 12:00:00|\n|    12|2009|   12|       13|  Belgian Grand Prix|2009-08-30|12:00:00|http://en.wikiped...|2023-09-14 18:53:...|2009-08-30 12:00:00|\n|    13|2009|   13|       14|  Italian Grand Prix|2009-09-13|12:00:00|http://en.wikiped...|2023-09-14 18:53:...|2009-09-13 12:00:00|\n|    14|2009|   14|       15|Singapore Grand Prix|2009-09-27|12:00:00|http://en.wikiped...|2023-09-14 18:53:...|2009-09-27 12:00:00|\n|    15|2009|   15|       22| Japanese Grand Prix|2009-10-04|05:00:00|http://en.wikiped...|2023-09-14 18:53:...|2009-10-04 05:00:00|\n|    16|2009|   16|       18|Brazilian Grand Prix|2009-10-18|16:00:00|http://en.wikiped...|2023-09-14 18:53:...|2009-10-18 16:00:00|\n|    17|2009|   17|       24|Abu Dhabi Grand Prix|2009-11-01|11:00:00|http://en.wikiped...|2023-09-14 18:53:...|2009-11-01 11:00:00|\n|    18|2008|    1|        1|Australian Grand ...|2008-03-16|04:30:00|http://en.wikiped...|2023-09-14 18:53:...|2008-03-16 04:30:00|\n|    19|2008|    2|        2|Malaysian Grand Prix|2008-03-23|07:00:00|http://en.wikiped...|2023-09-14 18:53:...|2008-03-23 07:00:00|\n|    20|2008|    3|        3|  Bahrain Grand Prix|2008-04-06|11:30:00|http://en.wikiped...|2023-09-14 18:53:...|2008-04-06 11:30:00|\n+------+----+-----+---------+--------------------+----------+--------+--------------------+--------------------+-------------------+\nonly showing top 20 rows\n\n"
     ]
    }
   ],
   "source": [
    "races_with_timestamp_df.show()"
   ]
  },
  {
   "cell_type": "markdown",
   "metadata": {
    "application/vnd.databricks.v1+cell": {
     "cellMetadata": {},
     "inputWidgets": {},
     "nuid": "5d588f54-8cc4-4f25-9feb-1b6f9bcffe14",
     "showTitle": false,
     "title": ""
    }
   },
   "source": [
    "#### Replace null values"
   ]
  },
  {
   "cell_type": "code",
   "execution_count": 0,
   "metadata": {
    "application/vnd.databricks.v1+cell": {
     "cellMetadata": {
      "byteLimit": 2048000,
      "rowLimit": 10000
     },
     "inputWidgets": {},
     "nuid": "eae8670a-8f87-40c9-913a-d3569babe98b",
     "showTitle": false,
     "title": ""
    }
   },
   "outputs": [],
   "source": [
    "cleaned_circuits_df = circuits_added_df.na.fill({\"country\":\"unkown\", \n",
    "                                                 \"location\":\"unkown\"})"
   ]
  },
  {
   "cell_type": "markdown",
   "metadata": {
    "application/vnd.databricks.v1+cell": {
     "cellMetadata": {},
     "inputWidgets": {},
     "nuid": "d8d120fa-33cd-4b8c-b647-308787ac3399",
     "showTitle": false,
     "title": ""
    }
   },
   "source": [
    "#### Drop Duplicated values"
   ]
  },
  {
   "cell_type": "code",
   "execution_count": 0,
   "metadata": {
    "application/vnd.databricks.v1+cell": {
     "cellMetadata": {
      "byteLimit": 2048000,
      "rowLimit": 10000
     },
     "inputWidgets": {},
     "nuid": "2d216977-ffe6-4fe8-bc92-7a8cf5fc19df",
     "showTitle": false,
     "title": ""
    }
   },
   "outputs": [
    {
     "output_type": "stream",
     "name": "stdout",
     "output_type": "stream",
     "text": [
      "+----------+--------------+--------------------+------------+---------+--------+---------+--------+--------------------+\n|circuit_id|   circuit_ref|                name|    location|  country|latitude|longitude|altitude|      ingestion_date|\n+----------+--------------+--------------------+------------+---------+--------+---------+--------+--------------------+\n|        14|         monza|Autodromo Naziona...|       Monza|    Italy| 45.6156|  9.28111|     162|2023-09-14 18:53:...|\n|        21|         imola|Autodromo Enzo e ...|       Imola|    Italy| 44.3439|  11.7167|      37|2023-09-14 18:53:...|\n|         1|   albert_park|Albert Park Grand...|   Melbourne|Australia|-37.8497|  144.968|      10|2023-09-14 18:53:...|\n|        11|   hungaroring|         Hungaroring|    Budapest|  Hungary| 47.5789|  19.2486|     264|2023-09-14 18:53:...|\n|        16|          fuji|       Fuji Speedway|       Oyama|    Japan| 35.3717|  138.927|     583|2023-09-14 18:53:...|\n|         2|        sepang|Sepang Internatio...|Kuala Lumpur| Malaysia| 2.76083|  101.738|      18|2023-09-14 18:53:...|\n|        20|   nurburgring|         Nürburgring|     Nürburg|  Germany| 50.3356|   6.9475|     578|2023-09-14 18:53:...|\n|        12|      valencia|Valencia Street C...|    Valencia|    Spain| 39.4589|-0.331667|       4|2023-09-14 18:53:...|\n|        19|  indianapolis|Indianapolis Moto...|Indianapolis|      USA|  39.795| -86.2347|     223|2023-09-14 18:53:...|\n|         7|    villeneuve|Circuit Gilles Vi...|    Montreal|   Canada|    45.5| -73.5228|      13|2023-09-14 18:53:...|\n|         5|      istanbul|       Istanbul Park|    Istanbul|   Turkey| 40.9517|   29.405|     130|2023-09-14 18:53:...|\n|         3|       bahrain|Bahrain Internati...|      Sakhir|  Bahrain| 26.0325|  50.5106|       7|2023-09-14 18:53:...|\n|        17|      shanghai|Shanghai Internat...|    Shanghai|    China| 31.3389|   121.22|       5|2023-09-14 18:53:...|\n|        15|    marina_bay|Marina Bay Street...|  Marina Bay|Singapore|  1.2914|  103.864|      18|2023-09-14 18:53:...|\n|        13|           spa|Circuit de Spa-Fr...|         Spa|  Belgium| 50.4372|  5.97139|     401|2023-09-14 18:53:...|\n|         4|     catalunya|Circuit de Barcel...|    Montmeló|    Spain|   41.57|  2.26111|     109|2023-09-14 18:53:...|\n|         6|        monaco|   Circuit de Monaco| Monte-Carlo|   Monaco| 43.7347|  7.42056|       7|2023-09-14 18:53:...|\n|        18|    interlagos|Autódromo José Ca...|   São Paulo|   Brazil|-23.7036| -46.6997|     785|2023-09-14 18:53:...|\n|         9|   silverstone| Silverstone Circuit| Silverstone|       UK| 52.0786| -1.01694|     153|2023-09-14 18:53:...|\n|        10|hockenheimring|      Hockenheimring|  Hockenheim|  Germany| 49.3278|  8.56583|     103|2023-09-14 18:53:...|\n+----------+--------------+--------------------+------------+---------+--------+---------+--------+--------------------+\nonly showing top 20 rows\n\n"
     ]
    }
   ],
   "source": [
    "drop_dup_circuits_df = cleaned_circuits_df.dropDuplicates()\n",
    "drop_dup_circuits_df.show()"
   ]
  },
  {
   "cell_type": "markdown",
   "metadata": {
    "application/vnd.databricks.v1+cell": {
     "cellMetadata": {},
     "inputWidgets": {},
     "nuid": "f0613709-a874-4b0f-8683-2794bf6b9fd6",
     "showTitle": false,
     "title": ""
    }
   },
   "source": [
    "#### Filter out records before 1960 and after 2022"
   ]
  },
  {
   "cell_type": "code",
   "execution_count": 0,
   "metadata": {
    "application/vnd.databricks.v1+cell": {
     "cellMetadata": {
      "byteLimit": 2048000,
      "rowLimit": 10000
     },
     "inputWidgets": {},
     "nuid": "5faeeada-4b19-48dd-8bdc-8ec95262228f",
     "showTitle": false,
     "title": ""
    }
   },
   "outputs": [
    {
     "output_type": "stream",
     "name": "stdout",
     "output_type": "stream",
     "text": [
      "+------+----+-----+---------+--------------------+----------+--------+--------------------+--------------------+-------------------+\n|raceId|year|round|circuitId|                name|      date|    time|                 url|      ingestion_date|     race_timestamp|\n+------+----+-----+---------+--------------------+----------+--------+--------------------+--------------------+-------------------+\n|     1|2009|    1|        1|Australian Grand ...|2009-03-29|06:00:00|http://en.wikiped...|2023-09-14 18:53:...|2009-03-29 06:00:00|\n|     2|2009|    2|        2|Malaysian Grand Prix|2009-04-05|09:00:00|http://en.wikiped...|2023-09-14 18:53:...|2009-04-05 09:00:00|\n|     3|2009|    3|       17|  Chinese Grand Prix|2009-04-19|07:00:00|http://en.wikiped...|2023-09-14 18:53:...|2009-04-19 07:00:00|\n|     4|2009|    4|        3|  Bahrain Grand Prix|2009-04-26|12:00:00|http://en.wikiped...|2023-09-14 18:53:...|2009-04-26 12:00:00|\n|     5|2009|    5|        4|  Spanish Grand Prix|2009-05-10|12:00:00|http://en.wikiped...|2023-09-14 18:53:...|2009-05-10 12:00:00|\n|     6|2009|    6|        6|   Monaco Grand Prix|2009-05-24|12:00:00|http://en.wikiped...|2023-09-14 18:53:...|2009-05-24 12:00:00|\n|     7|2009|    7|        5|  Turkish Grand Prix|2009-06-07|12:00:00|http://en.wikiped...|2023-09-14 18:53:...|2009-06-07 12:00:00|\n|     8|2009|    8|        9|  British Grand Prix|2009-06-21|12:00:00|http://en.wikiped...|2023-09-14 18:53:...|2009-06-21 12:00:00|\n|     9|2009|    9|       20|   German Grand Prix|2009-07-12|12:00:00|http://en.wikiped...|2023-09-14 18:53:...|2009-07-12 12:00:00|\n|    10|2009|   10|       11|Hungarian Grand Prix|2009-07-26|12:00:00|http://en.wikiped...|2023-09-14 18:53:...|2009-07-26 12:00:00|\n|    11|2009|   11|       12| European Grand Prix|2009-08-23|12:00:00|http://en.wikiped...|2023-09-14 18:53:...|2009-08-23 12:00:00|\n|    12|2009|   12|       13|  Belgian Grand Prix|2009-08-30|12:00:00|http://en.wikiped...|2023-09-14 18:53:...|2009-08-30 12:00:00|\n|    13|2009|   13|       14|  Italian Grand Prix|2009-09-13|12:00:00|http://en.wikiped...|2023-09-14 18:53:...|2009-09-13 12:00:00|\n|    14|2009|   14|       15|Singapore Grand Prix|2009-09-27|12:00:00|http://en.wikiped...|2023-09-14 18:53:...|2009-09-27 12:00:00|\n|    15|2009|   15|       22| Japanese Grand Prix|2009-10-04|05:00:00|http://en.wikiped...|2023-09-14 18:53:...|2009-10-04 05:00:00|\n|    16|2009|   16|       18|Brazilian Grand Prix|2009-10-18|16:00:00|http://en.wikiped...|2023-09-14 18:53:...|2009-10-18 16:00:00|\n|    17|2009|   17|       24|Abu Dhabi Grand Prix|2009-11-01|11:00:00|http://en.wikiped...|2023-09-14 18:53:...|2009-11-01 11:00:00|\n|    18|2008|    1|        1|Australian Grand ...|2008-03-16|04:30:00|http://en.wikiped...|2023-09-14 18:53:...|2008-03-16 04:30:00|\n|    19|2008|    2|        2|Malaysian Grand Prix|2008-03-23|07:00:00|http://en.wikiped...|2023-09-14 18:53:...|2008-03-23 07:00:00|\n|    20|2008|    3|        3|  Bahrain Grand Prix|2008-04-06|11:30:00|http://en.wikiped...|2023-09-14 18:53:...|2008-04-06 11:30:00|\n+------+----+-----+---------+--------------------+----------+--------+--------------------+--------------------+-------------------+\nonly showing top 20 rows\n\n"
     ]
    }
   ],
   "source": [
    "filtered_race_df =races_with_timestamp_df.filter((races_with_timestamp_df['year']>=1960) & (races_with_timestamp_df['year']<=2022))\n",
    "filtered_race_df.show()"
   ]
  },
  {
   "cell_type": "code",
   "execution_count": 0,
   "metadata": {
    "application/vnd.databricks.v1+cell": {
     "cellMetadata": {
      "byteLimit": 2048000,
      "rowLimit": 10000
     },
     "inputWidgets": {},
     "nuid": "6bb58d02-6cd1-4950-ae25-9a00ec4670f7",
     "showTitle": false,
     "title": ""
    }
   },
   "outputs": [
    {
     "output_type": "stream",
     "name": "stdout",
     "output_type": "stream",
     "text": [
      "+----------+-----------+--------------------+------------+---------+-------------------+------+----+--------+\n|circuit_id|circuit_ref|                name|    location|  country|     race_timestamp|raceId|year|altitude|\n+----------+-----------+--------------------+------------+---------+-------------------+------+----+--------+\n|         1|albert_park|Albert Park Grand...|   Melbourne|Australia|2009-03-29 06:00:00|     1|2009|      10|\n|         2|     sepang|Sepang Internatio...|Kuala Lumpur| Malaysia|2009-04-05 09:00:00|     2|2009|      18|\n|        17|   shanghai|Shanghai Internat...|    Shanghai|    China|2009-04-19 07:00:00|     3|2009|       5|\n|         3|    bahrain|Bahrain Internati...|      Sakhir|  Bahrain|2009-04-26 12:00:00|     4|2009|       7|\n|         4|  catalunya|Circuit de Barcel...|    Montmeló|    Spain|2009-05-10 12:00:00|     5|2009|     109|\n|         6|     monaco|   Circuit de Monaco| Monte-Carlo|   Monaco|2009-05-24 12:00:00|     6|2009|       7|\n|         5|   istanbul|       Istanbul Park|    Istanbul|   Turkey|2009-06-07 12:00:00|     7|2009|     130|\n|         9|silverstone| Silverstone Circuit| Silverstone|       UK|2009-06-21 12:00:00|     8|2009|     153|\n|        20|nurburgring|         Nürburgring|     Nürburg|  Germany|2009-07-12 12:00:00|     9|2009|     578|\n|        11|hungaroring|         Hungaroring|    Budapest|  Hungary|2009-07-26 12:00:00|    10|2009|     264|\n|        12|   valencia|Valencia Street C...|    Valencia|    Spain|2009-08-23 12:00:00|    11|2009|       4|\n|        13|        spa|Circuit de Spa-Fr...|         Spa|  Belgium|2009-08-30 12:00:00|    12|2009|     401|\n|        14|      monza|Autodromo Naziona...|       Monza|    Italy|2009-09-13 12:00:00|    13|2009|     162|\n|        15| marina_bay|Marina Bay Street...|  Marina Bay|Singapore|2009-09-27 12:00:00|    14|2009|      18|\n|        22|     suzuka|      Suzuka Circuit|      Suzuka|    Japan|2009-10-04 05:00:00|    15|2009|      45|\n|        18| interlagos|Autódromo José Ca...|   São Paulo|   Brazil|2009-10-18 16:00:00|    16|2009|     785|\n|        24| yas_marina|  Yas Marina Circuit|   Abu Dhabi|      UAE|2009-11-01 11:00:00|    17|2009|       3|\n|         1|albert_park|Albert Park Grand...|   Melbourne|Australia|2008-03-16 04:30:00|    18|2008|      10|\n|         2|     sepang|Sepang Internatio...|Kuala Lumpur| Malaysia|2008-03-23 07:00:00|    19|2008|      18|\n|         3|    bahrain|Bahrain Internati...|      Sakhir|  Bahrain|2008-04-06 11:30:00|    20|2008|       7|\n+----------+-----------+--------------------+------------+---------+-------------------+------+----+--------+\nonly showing top 20 rows\n\n"
     ]
    }
   ],
   "source": [
    "join_df = drop_dup_circuits_df.join(filtered_race_df, drop_dup_circuits_df.circuit_id == filtered_race_df.circuitId,\"Inner\")\n",
    "select_join_df = join_df.select(drop_dup_circuits_df.circuit_id, drop_dup_circuits_df.circuit_ref, drop_dup_circuits_df.name, drop_dup_circuits_df.location, drop_dup_circuits_df.country,\n",
    "               filtered_race_df.race_timestamp, filtered_race_df.raceId, filtered_race_df.year, drop_dup_circuits_df.altitude )\n",
    "select_join_df.show()"
   ]
  },
  {
   "cell_type": "markdown",
   "metadata": {
    "application/vnd.databricks.v1+cell": {
     "cellMetadata": {},
     "inputWidgets": {},
     "nuid": "045b32dd-69f0-47c8-af9f-fa40df9db05b",
     "showTitle": false,
     "title": ""
    }
   },
   "source": [
    "#### Number of unique race names"
   ]
  },
  {
   "cell_type": "code",
   "execution_count": 0,
   "metadata": {
    "application/vnd.databricks.v1+cell": {
     "cellMetadata": {
      "byteLimit": 2048000,
      "rowLimit": 10000
     },
     "inputWidgets": {},
     "nuid": "15e3e5b1-8b1a-4035-8fa5-8d2a83f57430",
     "showTitle": false,
     "title": ""
    }
   },
   "outputs": [],
   "source": [
    "from pyspark.sql.functions import countDistinct"
   ]
  },
  {
   "cell_type": "code",
   "execution_count": 0,
   "metadata": {
    "application/vnd.databricks.v1+cell": {
     "cellMetadata": {
      "byteLimit": 2048000,
      "rowLimit": 10000
     },
     "inputWidgets": {},
     "nuid": "d0812f6a-f5ec-4d18-82de-ce517073fd16",
     "showTitle": false,
     "title": ""
    }
   },
   "outputs": [
    {
     "output_type": "stream",
     "name": "stdout",
     "output_type": "stream",
     "text": [
      "+--------------------+\n|count(DISTINCT name)|\n+--------------------+\n|                  68|\n+--------------------+\n\n"
     ]
    }
   ],
   "source": [
    "select_join_df.select(countDistinct(\"name\")).show()"
   ]
  },
  {
   "cell_type": "markdown",
   "metadata": {
    "application/vnd.databricks.v1+cell": {
     "cellMetadata": {},
     "inputWidgets": {},
     "nuid": "bcd0a4b8-3e00-4790-8895-e6aa5d8a6a01",
     "showTitle": false,
     "title": ""
    }
   },
   "source": [
    "#### Apply GroupBy "
   ]
  },
  {
   "cell_type": "code",
   "execution_count": 0,
   "metadata": {
    "application/vnd.databricks.v1+cell": {
     "cellMetadata": {
      "byteLimit": 2048000,
      "rowLimit": 10000
     },
     "inputWidgets": {},
     "nuid": "78823557-a68b-4c3a-bfd1-364b91350823",
     "showTitle": false,
     "title": ""
    }
   },
   "outputs": [],
   "source": [
    "from pyspark.sql.functions import col\n",
    "from pyspark.sql.types import IntegerType\n",
    "\n",
    "select_join_df = select_join_df.withColumn(\"altitude\", col(\"altitude\").cast(IntegerType()))"
   ]
  },
  {
   "cell_type": "code",
   "execution_count": 0,
   "metadata": {
    "application/vnd.databricks.v1+cell": {
     "cellMetadata": {
      "byteLimit": 2048000,
      "rowLimit": 10000
     },
     "inputWidgets": {},
     "nuid": "1b8e944c-0966-4f15-8692-4294c25d4e6e",
     "showTitle": false,
     "title": ""
    }
   },
   "outputs": [
    {
     "output_type": "stream",
     "name": "stdout",
     "output_type": "stream",
     "text": [
      "+--------------------+------------+\n|                name|sum_altitude|\n+--------------------+------------+\n|           Fair Park|         139|\n|Scandinavian Raceway|         918|\n|       Istanbul Park|        1040|\n|Albert Park Grand...|         250|\n|Circuito da Boavista|          28|\n|Circuit Gilles Vi...|         533|\n|Adelaide Street C...|         638|\n|Korean Internatio...|           0|\n|      Suzuka Circuit|        1440|\n|Buddh Internation...|         582|\n|Autodromo Naziona...|        9882|\n|   Baku City Circuit|         -35|\n| Silverstone Circuit|        7497|\n|             A1-Ring|       16950|\n|  Yas Marina Circuit|          39|\n|   Rouen-Les-Essarts|         243|\n|Circuit de Barcel...|        3379|\n|Circuit de Spa-Fr...|       18446|\n|Autódromo José Ca...|       29830|\n|Okayama Internati...|         532|\n+--------------------+------------+\nonly showing top 20 rows\n\n"
     ]
    }
   ],
   "source": [
    "result_df = select_join_df.groupBy(\"name\").sum(\"altitude\").withColumnRenamed(\"sum(altitude)\", \"sum_altitude\")\n",
    "result_df.show()"
   ]
  },
  {
   "cell_type": "markdown",
   "metadata": {
    "application/vnd.databricks.v1+cell": {
     "cellMetadata": {},
     "inputWidgets": {},
     "nuid": "fe711bff-42d2-46c5-a918-dccd06feb2b4",
     "showTitle": false,
     "title": ""
    }
   },
   "source": [
    "#### Add the results to the existing dataframe"
   ]
  },
  {
   "cell_type": "code",
   "execution_count": 0,
   "metadata": {
    "application/vnd.databricks.v1+cell": {
     "cellMetadata": {
      "byteLimit": 2048000,
      "rowLimit": 10000
     },
     "inputWidgets": {},
     "nuid": "1cc781a6-3f98-4fdd-90b4-8b7ff29d1aa2",
     "showTitle": false,
     "title": ""
    }
   },
   "outputs": [
    {
     "output_type": "stream",
     "name": "stdout",
     "output_type": "stream",
     "text": [
      "+--------------------+----------+-----------+------------+---------+-------------------+------+----+--------+------------+\n|                name|circuit_id|circuit_ref|    location|  country|     race_timestamp|raceId|year|altitude|sum_altitude|\n+--------------------+----------+-----------+------------+---------+-------------------+------+----+--------+------------+\n|Albert Park Grand...|         1|albert_park|   Melbourne|Australia|2009-03-29 06:00:00|     1|2009|      10|         250|\n|Sepang Internatio...|         2|     sepang|Kuala Lumpur| Malaysia|2009-04-05 09:00:00|     2|2009|      18|         342|\n|Shanghai Internat...|        17|   shanghai|    Shanghai|    China|2009-04-19 07:00:00|     3|2009|       5|          80|\n|Bahrain Internati...|         3|    bahrain|      Sakhir|  Bahrain|2009-04-26 12:00:00|     4|2009|       7|         126|\n|Circuit de Barcel...|         4|  catalunya|    Montmeló|    Spain|2009-05-10 12:00:00|     5|2009|     109|        3379|\n|   Circuit de Monaco|         6|     monaco| Monte-Carlo|   Monaco|2009-05-24 12:00:00|     6|2009|       7|         427|\n|       Istanbul Park|         5|   istanbul|    Istanbul|   Turkey|2009-06-07 12:00:00|     7|2009|     130|        1040|\n| Silverstone Circuit|         9|silverstone| Silverstone|       UK|2009-06-21 12:00:00|     8|2009|     153|        7497|\n|         Nürburgring|        20|nurburgring|     Nürburg|  Germany|2009-07-12 12:00:00|     9|2009|     578|       20230|\n|         Hungaroring|        11|hungaroring|    Budapest|  Hungary|2009-07-26 12:00:00|    10|2009|     264|        9504|\n|Valencia Street C...|        12|   valencia|    Valencia|    Spain|2009-08-23 12:00:00|    11|2009|       4|          20|\n|Circuit de Spa-Fr...|        13|        spa|         Spa|  Belgium|2009-08-30 12:00:00|    12|2009|     401|       18446|\n|Autodromo Naziona...|        14|      monza|       Monza|    Italy|2009-09-13 12:00:00|    13|2009|     162|        9882|\n|Marina Bay Street...|        15| marina_bay|  Marina Bay|Singapore|2009-09-27 12:00:00|    14|2009|      18|         234|\n|      Suzuka Circuit|        22|     suzuka|      Suzuka|    Japan|2009-10-04 05:00:00|    15|2009|      45|        1440|\n|Autódromo José Ca...|        18| interlagos|   São Paulo|   Brazil|2009-10-18 16:00:00|    16|2009|     785|       29830|\n|  Yas Marina Circuit|        24| yas_marina|   Abu Dhabi|      UAE|2009-11-01 11:00:00|    17|2009|       3|          39|\n|Albert Park Grand...|         1|albert_park|   Melbourne|Australia|2008-03-16 04:30:00|    18|2008|      10|         250|\n|Sepang Internatio...|         2|     sepang|Kuala Lumpur| Malaysia|2008-03-23 07:00:00|    19|2008|      18|         342|\n|Bahrain Internati...|         3|    bahrain|      Sakhir|  Bahrain|2008-04-06 11:30:00|    20|2008|       7|         126|\n+--------------------+----------+-----------+------------+---------+-------------------+------+----+--------+------------+\nonly showing top 20 rows\n\n"
     ]
    }
   ],
   "source": [
    "results_df = select_join_df.join(result_df, on=\"name\", how=\"left\")\n",
    "results_df.show()"
   ]
  },
  {
   "cell_type": "markdown",
   "metadata": {
    "application/vnd.databricks.v1+cell": {
     "cellMetadata": {},
     "inputWidgets": {},
     "nuid": "0f80608d-d1ff-47a8-8e61-897d1e648a8c",
     "showTitle": false,
     "title": ""
    }
   },
   "source": [
    "#### Rank the rows based on year of each name using Window Method  "
   ]
  },
  {
   "cell_type": "code",
   "execution_count": 0,
   "metadata": {
    "application/vnd.databricks.v1+cell": {
     "cellMetadata": {
      "byteLimit": 2048000,
      "rowLimit": 10000
     },
     "inputWidgets": {},
     "nuid": "ec4e6f40-3ea6-4381-9c2e-4687665dfcfd",
     "showTitle": false,
     "title": ""
    }
   },
   "outputs": [
    {
     "output_type": "stream",
     "name": "stdout",
     "output_type": "stream",
     "text": [
      "+--------------------+----------+-----------+---------+---------+-------------------+------+----+--------+------------+----+\n|                name|circuit_id|circuit_ref| location|  country|     race_timestamp|raceId|year|altitude|sum_altitude|rank|\n+--------------------+----------+-----------+---------+---------+-------------------+------+----+--------+------------+----+\n|  Yas Marina Circuit|        24| yas_marina|Abu Dhabi|      UAE|2021-12-12 13:00:00|  1073|2021|       3|          39|   1|\n|  Yas Marina Circuit|        24| yas_marina|Abu Dhabi|      UAE|2020-12-13 13:10:00|  1047|2020|       3|          39|   2|\n|  Yas Marina Circuit|        24| yas_marina|Abu Dhabi|      UAE|2019-12-01 13:10:00|  1030|2019|       3|          39|   3|\n|  Yas Marina Circuit|        24| yas_marina|Abu Dhabi|      UAE|2018-11-25 13:10:00|  1009|2018|       3|          39|   4|\n|  Yas Marina Circuit|        24| yas_marina|Abu Dhabi|      UAE|2017-11-26 13:00:00|   988|2017|       3|          39|   5|\n|  Yas Marina Circuit|        24| yas_marina|Abu Dhabi|      UAE|2016-11-27 13:00:00|   968|2016|       3|          39|   6|\n|  Yas Marina Circuit|        24| yas_marina|Abu Dhabi|      UAE|2015-11-29 13:00:00|   945|2015|       3|          39|   7|\n|  Yas Marina Circuit|        24| yas_marina|Abu Dhabi|      UAE|2014-11-23 13:00:00|   918|2014|       3|          39|   8|\n|  Yas Marina Circuit|        24| yas_marina|Abu Dhabi|      UAE|2013-11-03 13:00:00|   897|2013|       3|          39|   9|\n|  Yas Marina Circuit|        24| yas_marina|Abu Dhabi|      UAE|2012-11-04 13:00:00|   877|2012|       3|          39|  10|\n|  Yas Marina Circuit|        24| yas_marina|Abu Dhabi|      UAE|2011-11-13 13:00:00|   858|2011|       3|          39|  11|\n|  Yas Marina Circuit|        24| yas_marina|Abu Dhabi|      UAE|2010-11-14 13:00:00|   355|2010|       3|          39|  12|\n|  Yas Marina Circuit|        24| yas_marina|Abu Dhabi|      UAE|2009-11-01 11:00:00|    17|2009|       3|          39|  13|\n|Adelaide Street C...|        29|   adelaide| Adelaide|Australia|               null|   256|1995|      58|         638|   1|\n|Adelaide Street C...|        29|   adelaide| Adelaide|Australia|               null|   272|1994|      58|         638|   2|\n|Adelaide Street C...|        29|   adelaide| Adelaide|Australia|               null|   288|1993|      58|         638|   3|\n|Adelaide Street C...|        29|   adelaide| Adelaide|Australia|               null|   304|1992|      58|         638|   4|\n|Adelaide Street C...|        29|   adelaide| Adelaide|Australia|               null|   320|1991|      58|         638|   5|\n|Adelaide Street C...|        29|   adelaide| Adelaide|Australia|               null|   336|1990|      58|         638|   6|\n|Adelaide Street C...|        29|   adelaide| Adelaide|Australia|               null|   371|1989|      58|         638|   7|\n+--------------------+----------+-----------+---------+---------+-------------------+------+----+--------+------------+----+\nonly showing top 20 rows\n\n"
     ]
    }
   ],
   "source": [
    "from pyspark.sql.window import Window\n",
    "from pyspark.sql.functions import desc, rank\n",
    "\n",
    "driverRankSpec = Window.partitionBy(\"location\").orderBy(desc(\"year\"))\n",
    "window_results_df = results_df.withColumn(\"rank\",rank().over(driverRankSpec))\n",
    "window_results_df.show()"
   ]
  },
  {
   "cell_type": "code",
   "execution_count": 0,
   "metadata": {
    "application/vnd.databricks.v1+cell": {
     "cellMetadata": {
      "byteLimit": 2048000,
      "rowLimit": 10000
     },
     "inputWidgets": {},
     "nuid": "f1929f89-c63f-4f80-a5e0-9809915a5640",
     "showTitle": false,
     "title": ""
    }
   },
   "outputs": [],
   "source": [
    "# Register the window_results_df as a temporary SQL table\n",
    "window_results_df.createOrReplaceTempView(\"ranked_table\")"
   ]
  },
  {
   "cell_type": "markdown",
   "metadata": {
    "application/vnd.databricks.v1+cell": {
     "cellMetadata": {},
     "inputWidgets": {},
     "nuid": "b5067466-1d5d-4f85-aca4-a7881e4c281f",
     "showTitle": false,
     "title": ""
    }
   },
   "source": [
    "##### Limit ranks to 10 using SQL"
   ]
  },
  {
   "cell_type": "code",
   "execution_count": 0,
   "metadata": {
    "application/vnd.databricks.v1+cell": {
     "cellMetadata": {
      "byteLimit": 2048000,
      "rowLimit": 10000
     },
     "inputWidgets": {},
     "nuid": "fbb6a5da-122a-449b-b339-bdf8ed194fb4",
     "showTitle": false,
     "title": ""
    }
   },
   "outputs": [
    {
     "output_type": "stream",
     "name": "stdout",
     "output_type": "stream",
     "text": [
      "+--------------------+----------+-----------+---------+---------+-------------------+------+----+--------+------------+----+\n|                name|circuit_id|circuit_ref| location|  country|     race_timestamp|raceId|year|altitude|sum_altitude|rank|\n+--------------------+----------+-----------+---------+---------+-------------------+------+----+--------+------------+----+\n|  Yas Marina Circuit|        24| yas_marina|Abu Dhabi|      UAE|2021-12-12 13:00:00|  1073|2021|       3|          39|   1|\n|  Yas Marina Circuit|        24| yas_marina|Abu Dhabi|      UAE|2020-12-13 13:10:00|  1047|2020|       3|          39|   2|\n|  Yas Marina Circuit|        24| yas_marina|Abu Dhabi|      UAE|2019-12-01 13:10:00|  1030|2019|       3|          39|   3|\n|  Yas Marina Circuit|        24| yas_marina|Abu Dhabi|      UAE|2018-11-25 13:10:00|  1009|2018|       3|          39|   4|\n|  Yas Marina Circuit|        24| yas_marina|Abu Dhabi|      UAE|2017-11-26 13:00:00|   988|2017|       3|          39|   5|\n|  Yas Marina Circuit|        24| yas_marina|Abu Dhabi|      UAE|2016-11-27 13:00:00|   968|2016|       3|          39|   6|\n|  Yas Marina Circuit|        24| yas_marina|Abu Dhabi|      UAE|2015-11-29 13:00:00|   945|2015|       3|          39|   7|\n|  Yas Marina Circuit|        24| yas_marina|Abu Dhabi|      UAE|2014-11-23 13:00:00|   918|2014|       3|          39|   8|\n|  Yas Marina Circuit|        24| yas_marina|Abu Dhabi|      UAE|2013-11-03 13:00:00|   897|2013|       3|          39|   9|\n|  Yas Marina Circuit|        24| yas_marina|Abu Dhabi|      UAE|2012-11-04 13:00:00|   877|2012|       3|          39|  10|\n|Adelaide Street C...|        29|   adelaide| Adelaide|Australia|               null|   256|1995|      58|         638|   1|\n|Adelaide Street C...|        29|   adelaide| Adelaide|Australia|               null|   272|1994|      58|         638|   2|\n|Adelaide Street C...|        29|   adelaide| Adelaide|Australia|               null|   288|1993|      58|         638|   3|\n|Adelaide Street C...|        29|   adelaide| Adelaide|Australia|               null|   304|1992|      58|         638|   4|\n|Adelaide Street C...|        29|   adelaide| Adelaide|Australia|               null|   320|1991|      58|         638|   5|\n|Adelaide Street C...|        29|   adelaide| Adelaide|Australia|               null|   336|1990|      58|         638|   6|\n|Adelaide Street C...|        29|   adelaide| Adelaide|Australia|               null|   371|1989|      58|         638|   7|\n|Adelaide Street C...|        29|   adelaide| Adelaide|Australia|               null|   387|1988|      58|         638|   8|\n|Adelaide Street C...|        29|   adelaide| Adelaide|Australia|               null|   403|1987|      58|         638|   9|\n|Adelaide Street C...|        29|   adelaide| Adelaide|Australia|               null|   419|1986|      58|         638|  10|\n+--------------------+----------+-----------+---------+---------+-------------------+------+----+--------+------------+----+\nonly showing top 20 rows\n\n"
     ]
    }
   ],
   "source": [
    "sql_query = \"\"\"\n",
    "    SELECT *\n",
    "    FROM ranked_table\n",
    "    WHERE rank<11\n",
    "\"\"\"\n",
    "\n",
    "grouped_df = spark.sql(sql_query)\n",
    "grouped_df.show()"
   ]
  },
  {
   "cell_type": "markdown",
   "metadata": {
    "application/vnd.databricks.v1+cell": {
     "cellMetadata": {},
     "inputWidgets": {},
     "nuid": "68d277f5-7277-41f0-b84b-82d832120b13",
     "showTitle": false,
     "title": ""
    }
   },
   "source": [
    "## Load"
   ]
  },
  {
   "cell_type": "markdown",
   "metadata": {
    "application/vnd.databricks.v1+cell": {
     "cellMetadata": {},
     "inputWidgets": {},
     "nuid": "8118dfbd-e5b7-41ac-874c-3f7bb42134e4",
     "showTitle": false,
     "title": ""
    }
   },
   "source": [
    "##### Step4: Write data to data lake file system as a parquet file"
   ]
  },
  {
   "cell_type": "code",
   "execution_count": 0,
   "metadata": {
    "application/vnd.databricks.v1+cell": {
     "cellMetadata": {
      "byteLimit": 2048000,
      "rowLimit": 10000
     },
     "inputWidgets": {},
     "nuid": "0f57a447-841e-4f52-8330-eb772c871551",
     "showTitle": false,
     "title": ""
    }
   },
   "outputs": [],
   "source": [
    "drop_dup_circuits_df.write.mode(\"overwrite\").parquet(\"abfss://container@arianazuredl1.dfs.core.windows.net/processed/circuits\")"
   ]
  },
  {
   "cell_type": "code",
   "execution_count": 0,
   "metadata": {
    "application/vnd.databricks.v1+cell": {
     "cellMetadata": {
      "byteLimit": 2048000,
      "rowLimit": 10000
     },
     "inputWidgets": {},
     "nuid": "8826374d-355d-46b4-bb50-361d66d72fca",
     "showTitle": false,
     "title": ""
    }
   },
   "outputs": [
    {
     "output_type": "display_data",
     "data": {
      "text/html": [
       "<style scoped>\n",
       "  .table-result-container {\n",
       "    max-height: 300px;\n",
       "    overflow: auto;\n",
       "  }\n",
       "  table, th, td {\n",
       "    border: 1px solid black;\n",
       "    border-collapse: collapse;\n",
       "  }\n",
       "  th, td {\n",
       "    padding: 5px;\n",
       "  }\n",
       "  th {\n",
       "    text-align: left;\n",
       "  }\n",
       "</style><div class='table-result-container'><table class='table-result'><thead style='background-color: white'><tr><th>circuit_id</th><th>circuit_ref</th><th>name</th><th>location</th><th>country</th><th>latitude</th><th>longitude</th><th>altitude</th><th>ingestion_date</th></tr></thead><tbody><tr><td>1</td><td>albert_park</td><td>Albert Park Grand Prix Circuit</td><td>Melbourne</td><td>Australia</td><td>-37.8497</td><td>144.968</td><td>10</td><td>2023-09-14T14:47:12.673+0000</td></tr><tr><td>2</td><td>sepang</td><td>Sepang International Circuit</td><td>Kuala Lumpur</td><td>Malaysia</td><td>2.76083</td><td>101.738</td><td>18</td><td>2023-09-14T14:47:12.673+0000</td></tr><tr><td>3</td><td>bahrain</td><td>Bahrain International Circuit</td><td>Sakhir</td><td>Bahrain</td><td>26.0325</td><td>50.5106</td><td>7</td><td>2023-09-14T14:47:12.673+0000</td></tr><tr><td>4</td><td>catalunya</td><td>Circuit de Barcelona-Catalunya</td><td>Montmeló</td><td>Spain</td><td>41.57</td><td>2.26111</td><td>109</td><td>2023-09-14T14:47:12.673+0000</td></tr><tr><td>5</td><td>istanbul</td><td>Istanbul Park</td><td>Istanbul</td><td>Turkey</td><td>40.9517</td><td>29.405</td><td>130</td><td>2023-09-14T14:47:12.673+0000</td></tr><tr><td>6</td><td>monaco</td><td>Circuit de Monaco</td><td>Monte-Carlo</td><td>Monaco</td><td>43.7347</td><td>7.42056</td><td>7</td><td>2023-09-14T14:47:12.673+0000</td></tr><tr><td>7</td><td>villeneuve</td><td>Circuit Gilles Villeneuve</td><td>Montreal</td><td>Canada</td><td>45.5</td><td>-73.5228</td><td>13</td><td>2023-09-14T14:47:12.673+0000</td></tr><tr><td>8</td><td>magny_cours</td><td>Circuit de Nevers Magny-Cours</td><td>Magny Cours</td><td>France</td><td>46.8642</td><td>3.16361</td><td>228</td><td>2023-09-14T14:47:12.673+0000</td></tr><tr><td>9</td><td>silverstone</td><td>Silverstone Circuit</td><td>Silverstone</td><td>UK</td><td>52.0786</td><td>-1.01694</td><td>153</td><td>2023-09-14T14:47:12.673+0000</td></tr><tr><td>10</td><td>hockenheimring</td><td>Hockenheimring</td><td>Hockenheim</td><td>Germany</td><td>49.3278</td><td>8.56583</td><td>103</td><td>2023-09-14T14:47:12.673+0000</td></tr><tr><td>11</td><td>hungaroring</td><td>Hungaroring</td><td>Budapest</td><td>Hungary</td><td>47.5789</td><td>19.2486</td><td>264</td><td>2023-09-14T14:47:12.673+0000</td></tr><tr><td>12</td><td>valencia</td><td>Valencia Street Circuit</td><td>Valencia</td><td>Spain</td><td>39.4589</td><td>-0.331667</td><td>4</td><td>2023-09-14T14:47:12.673+0000</td></tr><tr><td>13</td><td>spa</td><td>Circuit de Spa-Francorchamps</td><td>Spa</td><td>Belgium</td><td>50.4372</td><td>5.97139</td><td>401</td><td>2023-09-14T14:47:12.673+0000</td></tr><tr><td>14</td><td>monza</td><td>Autodromo Nazionale di Monza</td><td>Monza</td><td>Italy</td><td>45.6156</td><td>9.28111</td><td>162</td><td>2023-09-14T14:47:12.673+0000</td></tr><tr><td>15</td><td>marina_bay</td><td>Marina Bay Street Circuit</td><td>Marina Bay</td><td>Singapore</td><td>1.2914</td><td>103.864</td><td>18</td><td>2023-09-14T14:47:12.673+0000</td></tr><tr><td>16</td><td>fuji</td><td>Fuji Speedway</td><td>Oyama</td><td>Japan</td><td>35.3717</td><td>138.927</td><td>583</td><td>2023-09-14T14:47:12.673+0000</td></tr><tr><td>17</td><td>shanghai</td><td>Shanghai International Circuit</td><td>Shanghai</td><td>China</td><td>31.3389</td><td>121.22</td><td>5</td><td>2023-09-14T14:47:12.673+0000</td></tr><tr><td>18</td><td>interlagos</td><td>Autódromo José Carlos Pace</td><td>São Paulo</td><td>Brazil</td><td>-23.7036</td><td>-46.6997</td><td>785</td><td>2023-09-14T14:47:12.673+0000</td></tr><tr><td>19</td><td>indianapolis</td><td>Indianapolis Motor Speedway</td><td>Indianapolis</td><td>USA</td><td>39.795</td><td>-86.2347</td><td>223</td><td>2023-09-14T14:47:12.673+0000</td></tr><tr><td>20</td><td>nurburgring</td><td>Nürburgring</td><td>Nürburg</td><td>Germany</td><td>50.3356</td><td>6.9475</td><td>578</td><td>2023-09-14T14:47:12.673+0000</td></tr><tr><td>21</td><td>imola</td><td>Autodromo Enzo e Dino Ferrari</td><td>Imola</td><td>Italy</td><td>44.3439</td><td>11.7167</td><td>37</td><td>2023-09-14T14:47:12.673+0000</td></tr><tr><td>22</td><td>suzuka</td><td>Suzuka Circuit</td><td>Suzuka</td><td>Japan</td><td>34.8431</td><td>136.541</td><td>45</td><td>2023-09-14T14:47:12.673+0000</td></tr><tr><td>23</td><td>osterreichring</td><td>A1-Ring</td><td>Spielburg</td><td>Austria</td><td>47.2197</td><td>14.7647</td><td>678</td><td>2023-09-14T14:47:12.673+0000</td></tr><tr><td>24</td><td>yas_marina</td><td>Yas Marina Circuit</td><td>Abu Dhabi</td><td>UAE</td><td>24.4672</td><td>54.6031</td><td>3</td><td>2023-09-14T14:47:12.673+0000</td></tr><tr><td>25</td><td>galvez</td><td>Autódromo Juan y Oscar Gálvez</td><td>Buenos Aires</td><td>Argentina</td><td>-34.6943</td><td>-58.4593</td><td>8</td><td>2023-09-14T14:47:12.673+0000</td></tr><tr><td>26</td><td>jerez</td><td>Circuito de Jerez</td><td>Jerez de la Frontera</td><td>Spain</td><td>36.7083</td><td>-6.03417</td><td>37</td><td>2023-09-14T14:47:12.673+0000</td></tr><tr><td>27</td><td>estoril</td><td>Autódromo do Estoril</td><td>Estoril</td><td>Portugal</td><td>38.7506</td><td>-9.39417</td><td>130</td><td>2023-09-14T14:47:12.673+0000</td></tr><tr><td>28</td><td>okayama</td><td>Okayama International Circuit</td><td>Okayama</td><td>Japan</td><td>34.915</td><td>134.221</td><td>266</td><td>2023-09-14T14:47:12.673+0000</td></tr><tr><td>29</td><td>adelaide</td><td>Adelaide Street Circuit</td><td>Adelaide</td><td>Australia</td><td>-34.9272</td><td>138.617</td><td>58</td><td>2023-09-14T14:47:12.673+0000</td></tr><tr><td>30</td><td>kyalami</td><td>Kyalami</td><td>Midrand</td><td>South Africa</td><td>-25.9894</td><td>28.0767</td><td>1460</td><td>2023-09-14T14:47:12.673+0000</td></tr><tr><td>31</td><td>donington</td><td>Donington Park</td><td>Castle Donington</td><td>UK</td><td>52.8306</td><td>-1.37528</td><td>88</td><td>2023-09-14T14:47:12.673+0000</td></tr><tr><td>32</td><td>rodriguez</td><td>Autódromo Hermanos Rodríguez</td><td>Mexico City</td><td>Mexico</td><td>19.4042</td><td>-99.0907</td><td>2227</td><td>2023-09-14T14:47:12.673+0000</td></tr><tr><td>33</td><td>phoenix</td><td>Phoenix street circuit</td><td>Phoenix</td><td>USA</td><td>33.4479</td><td>-112.075</td><td>345</td><td>2023-09-14T14:47:12.673+0000</td></tr><tr><td>34</td><td>ricard</td><td>Circuit Paul Ricard</td><td>Le Castellet</td><td>France</td><td>43.2506</td><td>5.79167</td><td>432</td><td>2023-09-14T14:47:12.673+0000</td></tr><tr><td>35</td><td>yeongam</td><td>Korean International Circuit</td><td>Yeongam County</td><td>Korea</td><td>34.7333</td><td>126.417</td><td>0</td><td>2023-09-14T14:47:12.673+0000</td></tr><tr><td>36</td><td>jacarepagua</td><td>Autódromo Internacional Nelson Piquet</td><td>Rio de Janeiro</td><td>Brazil</td><td>-22.9756</td><td>-43.395</td><td>1126</td><td>2023-09-14T14:47:12.673+0000</td></tr><tr><td>37</td><td>detroit</td><td>Detroit Street Circuit</td><td>Detroit</td><td>USA</td><td>42.3298</td><td>-83.0401</td><td>177</td><td>2023-09-14T14:47:12.673+0000</td></tr><tr><td>38</td><td>brands_hatch</td><td>Brands Hatch</td><td>Kent</td><td>UK</td><td>51.3569</td><td>0.263056</td><td>145</td><td>2023-09-14T14:47:12.673+0000</td></tr><tr><td>39</td><td>zandvoort</td><td>Circuit Park Zandvoort</td><td>Zandvoort</td><td>Netherlands</td><td>52.3888</td><td>4.54092</td><td>6</td><td>2023-09-14T14:47:12.673+0000</td></tr><tr><td>40</td><td>zolder</td><td>Zolder</td><td>Heusden-Zolder</td><td>Belgium</td><td>50.9894</td><td>5.25694</td><td>36</td><td>2023-09-14T14:47:12.673+0000</td></tr><tr><td>41</td><td>dijon</td><td>Dijon-Prenois</td><td>Dijon</td><td>France</td><td>47.3625</td><td>4.89913</td><td>484</td><td>2023-09-14T14:47:12.673+0000</td></tr><tr><td>42</td><td>dallas</td><td>Fair Park</td><td>Dallas</td><td>USA</td><td>32.7774</td><td>-96.7587</td><td>139</td><td>2023-09-14T14:47:12.673+0000</td></tr><tr><td>43</td><td>long_beach</td><td>Long Beach</td><td>California</td><td>USA</td><td>33.7651</td><td>-118.189</td><td>12</td><td>2023-09-14T14:47:12.673+0000</td></tr><tr><td>44</td><td>las_vegas</td><td>Las Vegas Street Circuit</td><td>Nevada</td><td>USA</td><td>36.1162</td><td>-115.174</td><td>639</td><td>2023-09-14T14:47:12.673+0000</td></tr><tr><td>45</td><td>jarama</td><td>Jarama</td><td>Madrid</td><td>Spain</td><td>40.6171</td><td>-3.58558</td><td>609</td><td>2023-09-14T14:47:12.673+0000</td></tr><tr><td>46</td><td>watkins_glen</td><td>Watkins Glen</td><td>New York State</td><td>USA</td><td>42.3369</td><td>-76.9272</td><td>485</td><td>2023-09-14T14:47:12.673+0000</td></tr><tr><td>47</td><td>anderstorp</td><td>Scandinavian Raceway</td><td>Anderstorp</td><td>Sweden</td><td>57.2653</td><td>13.6042</td><td>153</td><td>2023-09-14T14:47:12.673+0000</td></tr><tr><td>48</td><td>mosport</td><td>Mosport International Raceway</td><td>Ontario</td><td>Canada</td><td>44.0481</td><td>-78.6756</td><td>332</td><td>2023-09-14T14:47:12.673+0000</td></tr><tr><td>49</td><td>montjuic</td><td>Montjuïc</td><td>Barcelona</td><td>Spain</td><td>41.3664</td><td>2.15167</td><td>79</td><td>2023-09-14T14:47:12.673+0000</td></tr><tr><td>50</td><td>nivelles</td><td>Nivelles-Baulers</td><td>Brussels</td><td>Belgium</td><td>50.6211</td><td>4.32694</td><td>139</td><td>2023-09-14T14:47:12.673+0000</td></tr><tr><td>51</td><td>charade</td><td>Charade Circuit</td><td>Clermont-Ferrand</td><td>France</td><td>45.7472</td><td>3.03889</td><td>790</td><td>2023-09-14T14:47:12.673+0000</td></tr><tr><td>52</td><td>tremblant</td><td>Circuit Mont-Tremblant</td><td>Quebec</td><td>Canada</td><td>46.1877</td><td>-74.6099</td><td>214</td><td>2023-09-14T14:47:12.673+0000</td></tr><tr><td>53</td><td>essarts</td><td>Rouen-Les-Essarts</td><td>Rouen</td><td>France</td><td>49.3306</td><td>1.00458</td><td>81</td><td>2023-09-14T14:47:12.673+0000</td></tr><tr><td>54</td><td>lemans</td><td>Le Mans</td><td>Le Mans</td><td>France</td><td>47.95</td><td>0.224231</td><td>67</td><td>2023-09-14T14:47:12.673+0000</td></tr><tr><td>55</td><td>reims</td><td>Reims-Gueux</td><td>Reims</td><td>France</td><td>49.2542</td><td>3.93083</td><td>88</td><td>2023-09-14T14:47:12.673+0000</td></tr><tr><td>56</td><td>george</td><td>Prince George Circuit</td><td>Eastern Cape Province</td><td>South Africa</td><td>-33.0486</td><td>27.8736</td><td>15</td><td>2023-09-14T14:47:12.673+0000</td></tr><tr><td>57</td><td>zeltweg</td><td>Zeltweg</td><td>Styria</td><td>Austria</td><td>47.2039</td><td>14.7478</td><td>676</td><td>2023-09-14T14:47:12.673+0000</td></tr><tr><td>58</td><td>aintree</td><td>Aintree</td><td>Liverpool</td><td>UK</td><td>53.4769</td><td>-2.94056</td><td>20</td><td>2023-09-14T14:47:12.673+0000</td></tr><tr><td>59</td><td>boavista</td><td>Circuito da Boavista</td><td>Oporto</td><td>Portugal</td><td>41.1705</td><td>-8.67325</td><td>28</td><td>2023-09-14T14:47:12.673+0000</td></tr><tr><td>60</td><td>riverside</td><td>Riverside International Raceway</td><td>California</td><td>USA</td><td>33.937</td><td>-117.273</td><td>470</td><td>2023-09-14T14:47:12.673+0000</td></tr><tr><td>61</td><td>avus</td><td>AVUS</td><td>Berlin</td><td>Germany</td><td>52.4806</td><td>13.2514</td><td>53</td><td>2023-09-14T14:47:12.673+0000</td></tr><tr><td>62</td><td>monsanto</td><td>Monsanto Park Circuit</td><td>Lisbon</td><td>Portugal</td><td>38.7197</td><td>-9.20306</td><td>158</td><td>2023-09-14T14:47:12.673+0000</td></tr><tr><td>63</td><td>sebring</td><td>Sebring International Raceway</td><td>Florida</td><td>USA</td><td>27.4547</td><td>-81.3483</td><td>18</td><td>2023-09-14T14:47:12.673+0000</td></tr><tr><td>64</td><td>ain-diab</td><td>Ain Diab</td><td>Casablanca</td><td>Morocco</td><td>33.5786</td><td>-7.6875</td><td>19</td><td>2023-09-14T14:47:12.673+0000</td></tr><tr><td>65</td><td>pescara</td><td>Pescara Circuit</td><td>Pescara</td><td>Italy</td><td>42.475</td><td>14.1508</td><td>129</td><td>2023-09-14T14:47:12.673+0000</td></tr><tr><td>66</td><td>bremgarten</td><td>Circuit Bremgarten</td><td>Bern</td><td>Switzerland</td><td>46.9589</td><td>7.40194</td><td>551</td><td>2023-09-14T14:47:12.673+0000</td></tr><tr><td>67</td><td>pedralbes</td><td>Circuit de Pedralbes</td><td>Barcelona</td><td>Spain</td><td>41.3903</td><td>2.11667</td><td>85</td><td>2023-09-14T14:47:12.673+0000</td></tr><tr><td>68</td><td>buddh</td><td>Buddh International Circuit</td><td>Uttar Pradesh</td><td>India</td><td>28.3487</td><td>77.5331</td><td>194</td><td>2023-09-14T14:47:12.673+0000</td></tr><tr><td>69</td><td>americas</td><td>Circuit of the Americas</td><td>Austin</td><td>USA</td><td>30.1328</td><td>-97.6411</td><td>161</td><td>2023-09-14T14:47:12.673+0000</td></tr><tr><td>70</td><td>red_bull_ring</td><td>Red Bull Ring</td><td>Spielburg</td><td>Austria</td><td>47.2197</td><td>14.7647</td><td>678</td><td>2023-09-14T14:47:12.673+0000</td></tr><tr><td>71</td><td>sochi</td><td>Sochi Autodrom</td><td>Sochi</td><td>Russia</td><td>43.4057</td><td>39.9578</td><td>2</td><td>2023-09-14T14:47:12.673+0000</td></tr><tr><td>72</td><td>port_imperial</td><td>Port Imperial Street Circuit</td><td>New Jersey</td><td>USA</td><td>40.7769</td><td>-74.0111</td><td>4</td><td>2023-09-14T14:47:12.673+0000</td></tr><tr><td>73</td><td>BAK</td><td>Baku City Circuit</td><td>Baku</td><td>Azerbaijan</td><td>40.3725</td><td>49.8533</td><td>-7</td><td>2023-09-14T14:47:12.673+0000</td></tr><tr><td>74</td><td>hanoi</td><td>Hanoi Street Circuit</td><td>Hanoi</td><td>Vietnam</td><td>21.0166</td><td>105.766</td><td>9</td><td>2023-09-14T14:47:12.673+0000</td></tr><tr><td>75</td><td>portimao</td><td>Autódromo Internacional do Algarve</td><td>Portimão</td><td>Portugal</td><td>37.227</td><td>-8.6267</td><td>108</td><td>2023-09-14T14:47:12.673+0000</td></tr><tr><td>76</td><td>mugello</td><td>Autodromo Internazionale del Mugello</td><td>Mugello</td><td>Italy</td><td>43.9975</td><td>11.3719</td><td>255</td><td>2023-09-14T14:47:12.673+0000</td></tr><tr><td>77</td><td>jeddah</td><td>Jeddah Street Circuit</td><td>Jeddah</td><td>Saudi Arabia</td><td>21.5433</td><td>39.1728</td><td>15</td><td>2023-09-14T14:47:12.673+0000</td></tr></tbody></table></div>"
      ]
     },
     "metadata": {
      "application/vnd.databricks.v1+output": {
       "addedWidgets": {},
       "aggData": [],
       "aggError": "",
       "aggOverflow": false,
       "aggSchema": [],
       "aggSeriesLimitReached": false,
       "aggType": "",
       "arguments": {},
       "columnCustomDisplayInfos": {},
       "data": [
        [
         "1",
         "albert_park",
         "Albert Park Grand Prix Circuit",
         "Melbourne",
         "Australia",
         "-37.8497",
         "144.968",
         "10",
         "2023-09-14T14:47:12.673+0000"
        ],
        [
         "2",
         "sepang",
         "Sepang International Circuit",
         "Kuala Lumpur",
         "Malaysia",
         "2.76083",
         "101.738",
         "18",
         "2023-09-14T14:47:12.673+0000"
        ],
        [
         "3",
         "bahrain",
         "Bahrain International Circuit",
         "Sakhir",
         "Bahrain",
         "26.0325",
         "50.5106",
         "7",
         "2023-09-14T14:47:12.673+0000"
        ],
        [
         "4",
         "catalunya",
         "Circuit de Barcelona-Catalunya",
         "Montmeló",
         "Spain",
         "41.57",
         "2.26111",
         "109",
         "2023-09-14T14:47:12.673+0000"
        ],
        [
         "5",
         "istanbul",
         "Istanbul Park",
         "Istanbul",
         "Turkey",
         "40.9517",
         "29.405",
         "130",
         "2023-09-14T14:47:12.673+0000"
        ],
        [
         "6",
         "monaco",
         "Circuit de Monaco",
         "Monte-Carlo",
         "Monaco",
         "43.7347",
         "7.42056",
         "7",
         "2023-09-14T14:47:12.673+0000"
        ],
        [
         "7",
         "villeneuve",
         "Circuit Gilles Villeneuve",
         "Montreal",
         "Canada",
         "45.5",
         "-73.5228",
         "13",
         "2023-09-14T14:47:12.673+0000"
        ],
        [
         "8",
         "magny_cours",
         "Circuit de Nevers Magny-Cours",
         "Magny Cours",
         "France",
         "46.8642",
         "3.16361",
         "228",
         "2023-09-14T14:47:12.673+0000"
        ],
        [
         "9",
         "silverstone",
         "Silverstone Circuit",
         "Silverstone",
         "UK",
         "52.0786",
         "-1.01694",
         "153",
         "2023-09-14T14:47:12.673+0000"
        ],
        [
         "10",
         "hockenheimring",
         "Hockenheimring",
         "Hockenheim",
         "Germany",
         "49.3278",
         "8.56583",
         "103",
         "2023-09-14T14:47:12.673+0000"
        ],
        [
         "11",
         "hungaroring",
         "Hungaroring",
         "Budapest",
         "Hungary",
         "47.5789",
         "19.2486",
         "264",
         "2023-09-14T14:47:12.673+0000"
        ],
        [
         "12",
         "valencia",
         "Valencia Street Circuit",
         "Valencia",
         "Spain",
         "39.4589",
         "-0.331667",
         "4",
         "2023-09-14T14:47:12.673+0000"
        ],
        [
         "13",
         "spa",
         "Circuit de Spa-Francorchamps",
         "Spa",
         "Belgium",
         "50.4372",
         "5.97139",
         "401",
         "2023-09-14T14:47:12.673+0000"
        ],
        [
         "14",
         "monza",
         "Autodromo Nazionale di Monza",
         "Monza",
         "Italy",
         "45.6156",
         "9.28111",
         "162",
         "2023-09-14T14:47:12.673+0000"
        ],
        [
         "15",
         "marina_bay",
         "Marina Bay Street Circuit",
         "Marina Bay",
         "Singapore",
         "1.2914",
         "103.864",
         "18",
         "2023-09-14T14:47:12.673+0000"
        ],
        [
         "16",
         "fuji",
         "Fuji Speedway",
         "Oyama",
         "Japan",
         "35.3717",
         "138.927",
         "583",
         "2023-09-14T14:47:12.673+0000"
        ],
        [
         "17",
         "shanghai",
         "Shanghai International Circuit",
         "Shanghai",
         "China",
         "31.3389",
         "121.22",
         "5",
         "2023-09-14T14:47:12.673+0000"
        ],
        [
         "18",
         "interlagos",
         "Autódromo José Carlos Pace",
         "São Paulo",
         "Brazil",
         "-23.7036",
         "-46.6997",
         "785",
         "2023-09-14T14:47:12.673+0000"
        ],
        [
         "19",
         "indianapolis",
         "Indianapolis Motor Speedway",
         "Indianapolis",
         "USA",
         "39.795",
         "-86.2347",
         "223",
         "2023-09-14T14:47:12.673+0000"
        ],
        [
         "20",
         "nurburgring",
         "Nürburgring",
         "Nürburg",
         "Germany",
         "50.3356",
         "6.9475",
         "578",
         "2023-09-14T14:47:12.673+0000"
        ],
        [
         "21",
         "imola",
         "Autodromo Enzo e Dino Ferrari",
         "Imola",
         "Italy",
         "44.3439",
         "11.7167",
         "37",
         "2023-09-14T14:47:12.673+0000"
        ],
        [
         "22",
         "suzuka",
         "Suzuka Circuit",
         "Suzuka",
         "Japan",
         "34.8431",
         "136.541",
         "45",
         "2023-09-14T14:47:12.673+0000"
        ],
        [
         "23",
         "osterreichring",
         "A1-Ring",
         "Spielburg",
         "Austria",
         "47.2197",
         "14.7647",
         "678",
         "2023-09-14T14:47:12.673+0000"
        ],
        [
         "24",
         "yas_marina",
         "Yas Marina Circuit",
         "Abu Dhabi",
         "UAE",
         "24.4672",
         "54.6031",
         "3",
         "2023-09-14T14:47:12.673+0000"
        ],
        [
         "25",
         "galvez",
         "Autódromo Juan y Oscar Gálvez",
         "Buenos Aires",
         "Argentina",
         "-34.6943",
         "-58.4593",
         "8",
         "2023-09-14T14:47:12.673+0000"
        ],
        [
         "26",
         "jerez",
         "Circuito de Jerez",
         "Jerez de la Frontera",
         "Spain",
         "36.7083",
         "-6.03417",
         "37",
         "2023-09-14T14:47:12.673+0000"
        ],
        [
         "27",
         "estoril",
         "Autódromo do Estoril",
         "Estoril",
         "Portugal",
         "38.7506",
         "-9.39417",
         "130",
         "2023-09-14T14:47:12.673+0000"
        ],
        [
         "28",
         "okayama",
         "Okayama International Circuit",
         "Okayama",
         "Japan",
         "34.915",
         "134.221",
         "266",
         "2023-09-14T14:47:12.673+0000"
        ],
        [
         "29",
         "adelaide",
         "Adelaide Street Circuit",
         "Adelaide",
         "Australia",
         "-34.9272",
         "138.617",
         "58",
         "2023-09-14T14:47:12.673+0000"
        ],
        [
         "30",
         "kyalami",
         "Kyalami",
         "Midrand",
         "South Africa",
         "-25.9894",
         "28.0767",
         "1460",
         "2023-09-14T14:47:12.673+0000"
        ],
        [
         "31",
         "donington",
         "Donington Park",
         "Castle Donington",
         "UK",
         "52.8306",
         "-1.37528",
         "88",
         "2023-09-14T14:47:12.673+0000"
        ],
        [
         "32",
         "rodriguez",
         "Autódromo Hermanos Rodríguez",
         "Mexico City",
         "Mexico",
         "19.4042",
         "-99.0907",
         "2227",
         "2023-09-14T14:47:12.673+0000"
        ],
        [
         "33",
         "phoenix",
         "Phoenix street circuit",
         "Phoenix",
         "USA",
         "33.4479",
         "-112.075",
         "345",
         "2023-09-14T14:47:12.673+0000"
        ],
        [
         "34",
         "ricard",
         "Circuit Paul Ricard",
         "Le Castellet",
         "France",
         "43.2506",
         "5.79167",
         "432",
         "2023-09-14T14:47:12.673+0000"
        ],
        [
         "35",
         "yeongam",
         "Korean International Circuit",
         "Yeongam County",
         "Korea",
         "34.7333",
         "126.417",
         "0",
         "2023-09-14T14:47:12.673+0000"
        ],
        [
         "36",
         "jacarepagua",
         "Autódromo Internacional Nelson Piquet",
         "Rio de Janeiro",
         "Brazil",
         "-22.9756",
         "-43.395",
         "1126",
         "2023-09-14T14:47:12.673+0000"
        ],
        [
         "37",
         "detroit",
         "Detroit Street Circuit",
         "Detroit",
         "USA",
         "42.3298",
         "-83.0401",
         "177",
         "2023-09-14T14:47:12.673+0000"
        ],
        [
         "38",
         "brands_hatch",
         "Brands Hatch",
         "Kent",
         "UK",
         "51.3569",
         "0.263056",
         "145",
         "2023-09-14T14:47:12.673+0000"
        ],
        [
         "39",
         "zandvoort",
         "Circuit Park Zandvoort",
         "Zandvoort",
         "Netherlands",
         "52.3888",
         "4.54092",
         "6",
         "2023-09-14T14:47:12.673+0000"
        ],
        [
         "40",
         "zolder",
         "Zolder",
         "Heusden-Zolder",
         "Belgium",
         "50.9894",
         "5.25694",
         "36",
         "2023-09-14T14:47:12.673+0000"
        ],
        [
         "41",
         "dijon",
         "Dijon-Prenois",
         "Dijon",
         "France",
         "47.3625",
         "4.89913",
         "484",
         "2023-09-14T14:47:12.673+0000"
        ],
        [
         "42",
         "dallas",
         "Fair Park",
         "Dallas",
         "USA",
         "32.7774",
         "-96.7587",
         "139",
         "2023-09-14T14:47:12.673+0000"
        ],
        [
         "43",
         "long_beach",
         "Long Beach",
         "California",
         "USA",
         "33.7651",
         "-118.189",
         "12",
         "2023-09-14T14:47:12.673+0000"
        ],
        [
         "44",
         "las_vegas",
         "Las Vegas Street Circuit",
         "Nevada",
         "USA",
         "36.1162",
         "-115.174",
         "639",
         "2023-09-14T14:47:12.673+0000"
        ],
        [
         "45",
         "jarama",
         "Jarama",
         "Madrid",
         "Spain",
         "40.6171",
         "-3.58558",
         "609",
         "2023-09-14T14:47:12.673+0000"
        ],
        [
         "46",
         "watkins_glen",
         "Watkins Glen",
         "New York State",
         "USA",
         "42.3369",
         "-76.9272",
         "485",
         "2023-09-14T14:47:12.673+0000"
        ],
        [
         "47",
         "anderstorp",
         "Scandinavian Raceway",
         "Anderstorp",
         "Sweden",
         "57.2653",
         "13.6042",
         "153",
         "2023-09-14T14:47:12.673+0000"
        ],
        [
         "48",
         "mosport",
         "Mosport International Raceway",
         "Ontario",
         "Canada",
         "44.0481",
         "-78.6756",
         "332",
         "2023-09-14T14:47:12.673+0000"
        ],
        [
         "49",
         "montjuic",
         "Montjuïc",
         "Barcelona",
         "Spain",
         "41.3664",
         "2.15167",
         "79",
         "2023-09-14T14:47:12.673+0000"
        ],
        [
         "50",
         "nivelles",
         "Nivelles-Baulers",
         "Brussels",
         "Belgium",
         "50.6211",
         "4.32694",
         "139",
         "2023-09-14T14:47:12.673+0000"
        ],
        [
         "51",
         "charade",
         "Charade Circuit",
         "Clermont-Ferrand",
         "France",
         "45.7472",
         "3.03889",
         "790",
         "2023-09-14T14:47:12.673+0000"
        ],
        [
         "52",
         "tremblant",
         "Circuit Mont-Tremblant",
         "Quebec",
         "Canada",
         "46.1877",
         "-74.6099",
         "214",
         "2023-09-14T14:47:12.673+0000"
        ],
        [
         "53",
         "essarts",
         "Rouen-Les-Essarts",
         "Rouen",
         "France",
         "49.3306",
         "1.00458",
         "81",
         "2023-09-14T14:47:12.673+0000"
        ],
        [
         "54",
         "lemans",
         "Le Mans",
         "Le Mans",
         "France",
         "47.95",
         "0.224231",
         "67",
         "2023-09-14T14:47:12.673+0000"
        ],
        [
         "55",
         "reims",
         "Reims-Gueux",
         "Reims",
         "France",
         "49.2542",
         "3.93083",
         "88",
         "2023-09-14T14:47:12.673+0000"
        ],
        [
         "56",
         "george",
         "Prince George Circuit",
         "Eastern Cape Province",
         "South Africa",
         "-33.0486",
         "27.8736",
         "15",
         "2023-09-14T14:47:12.673+0000"
        ],
        [
         "57",
         "zeltweg",
         "Zeltweg",
         "Styria",
         "Austria",
         "47.2039",
         "14.7478",
         "676",
         "2023-09-14T14:47:12.673+0000"
        ],
        [
         "58",
         "aintree",
         "Aintree",
         "Liverpool",
         "UK",
         "53.4769",
         "-2.94056",
         "20",
         "2023-09-14T14:47:12.673+0000"
        ],
        [
         "59",
         "boavista",
         "Circuito da Boavista",
         "Oporto",
         "Portugal",
         "41.1705",
         "-8.67325",
         "28",
         "2023-09-14T14:47:12.673+0000"
        ],
        [
         "60",
         "riverside",
         "Riverside International Raceway",
         "California",
         "USA",
         "33.937",
         "-117.273",
         "470",
         "2023-09-14T14:47:12.673+0000"
        ],
        [
         "61",
         "avus",
         "AVUS",
         "Berlin",
         "Germany",
         "52.4806",
         "13.2514",
         "53",
         "2023-09-14T14:47:12.673+0000"
        ],
        [
         "62",
         "monsanto",
         "Monsanto Park Circuit",
         "Lisbon",
         "Portugal",
         "38.7197",
         "-9.20306",
         "158",
         "2023-09-14T14:47:12.673+0000"
        ],
        [
         "63",
         "sebring",
         "Sebring International Raceway",
         "Florida",
         "USA",
         "27.4547",
         "-81.3483",
         "18",
         "2023-09-14T14:47:12.673+0000"
        ],
        [
         "64",
         "ain-diab",
         "Ain Diab",
         "Casablanca",
         "Morocco",
         "33.5786",
         "-7.6875",
         "19",
         "2023-09-14T14:47:12.673+0000"
        ],
        [
         "65",
         "pescara",
         "Pescara Circuit",
         "Pescara",
         "Italy",
         "42.475",
         "14.1508",
         "129",
         "2023-09-14T14:47:12.673+0000"
        ],
        [
         "66",
         "bremgarten",
         "Circuit Bremgarten",
         "Bern",
         "Switzerland",
         "46.9589",
         "7.40194",
         "551",
         "2023-09-14T14:47:12.673+0000"
        ],
        [
         "67",
         "pedralbes",
         "Circuit de Pedralbes",
         "Barcelona",
         "Spain",
         "41.3903",
         "2.11667",
         "85",
         "2023-09-14T14:47:12.673+0000"
        ],
        [
         "68",
         "buddh",
         "Buddh International Circuit",
         "Uttar Pradesh",
         "India",
         "28.3487",
         "77.5331",
         "194",
         "2023-09-14T14:47:12.673+0000"
        ],
        [
         "69",
         "americas",
         "Circuit of the Americas",
         "Austin",
         "USA",
         "30.1328",
         "-97.6411",
         "161",
         "2023-09-14T14:47:12.673+0000"
        ],
        [
         "70",
         "red_bull_ring",
         "Red Bull Ring",
         "Spielburg",
         "Austria",
         "47.2197",
         "14.7647",
         "678",
         "2023-09-14T14:47:12.673+0000"
        ],
        [
         "71",
         "sochi",
         "Sochi Autodrom",
         "Sochi",
         "Russia",
         "43.4057",
         "39.9578",
         "2",
         "2023-09-14T14:47:12.673+0000"
        ],
        [
         "72",
         "port_imperial",
         "Port Imperial Street Circuit",
         "New Jersey",
         "USA",
         "40.7769",
         "-74.0111",
         "4",
         "2023-09-14T14:47:12.673+0000"
        ],
        [
         "73",
         "BAK",
         "Baku City Circuit",
         "Baku",
         "Azerbaijan",
         "40.3725",
         "49.8533",
         "-7",
         "2023-09-14T14:47:12.673+0000"
        ],
        [
         "74",
         "hanoi",
         "Hanoi Street Circuit",
         "Hanoi",
         "Vietnam",
         "21.0166",
         "105.766",
         "9",
         "2023-09-14T14:47:12.673+0000"
        ],
        [
         "75",
         "portimao",
         "Autódromo Internacional do Algarve",
         "Portimão",
         "Portugal",
         "37.227",
         "-8.6267",
         "108",
         "2023-09-14T14:47:12.673+0000"
        ],
        [
         "76",
         "mugello",
         "Autodromo Internazionale del Mugello",
         "Mugello",
         "Italy",
         "43.9975",
         "11.3719",
         "255",
         "2023-09-14T14:47:12.673+0000"
        ],
        [
         "77",
         "jeddah",
         "Jeddah Street Circuit",
         "Jeddah",
         "Saudi Arabia",
         "21.5433",
         "39.1728",
         "15",
         "2023-09-14T14:47:12.673+0000"
        ]
       ],
       "datasetInfos": [],
       "dbfsResultPath": null,
       "isJsonSchema": true,
       "metadata": {},
       "overflow": false,
       "plotOptions": {
        "customPlotOptions": {},
        "displayType": "table",
        "pivotAggregation": null,
        "pivotColumns": null,
        "xColumns": null,
        "yColumns": null
       },
       "removedWidgets": [],
       "schema": [
        {
         "metadata": "{}",
         "name": "circuit_id",
         "type": "\"string\""
        },
        {
         "metadata": "{}",
         "name": "circuit_ref",
         "type": "\"string\""
        },
        {
         "metadata": "{}",
         "name": "name",
         "type": "\"string\""
        },
        {
         "metadata": "{}",
         "name": "location",
         "type": "\"string\""
        },
        {
         "metadata": "{}",
         "name": "country",
         "type": "\"string\""
        },
        {
         "metadata": "{}",
         "name": "latitude",
         "type": "\"string\""
        },
        {
         "metadata": "{}",
         "name": "longitude",
         "type": "\"string\""
        },
        {
         "metadata": "{}",
         "name": "altitude",
         "type": "\"string\""
        },
        {
         "metadata": "{}",
         "name": "ingestion_date",
         "type": "\"timestamp\""
        }
       ],
       "type": "table"
      }
     },
     "output_type": "display_data"
    }
   ],
   "source": [
    "df = spark.read.parquet(\"abfss://container@arianazuredl1.dfs.core.windows.net/processed/circuits\")\n",
    "df.show()"
   ]
  }
 ],
 "metadata": {
  "application/vnd.databricks.v1+notebook": {
   "dashboards": [],
   "language": "python",
   "notebookMetadata": {
    "pythonIndentUnit": 4
   },
   "notebookName": "app",
   "widgets": {}
  }
 },
 "nbformat": 4,
 "nbformat_minor": 0
}
