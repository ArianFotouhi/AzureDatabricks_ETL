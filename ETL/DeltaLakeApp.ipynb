{
 "cells": [
  {
   "cell_type": "markdown",
   "metadata": {
    "application/vnd.databricks.v1+cell": {
     "cellMetadata": {},
     "inputWidgets": {},
     "nuid": "c209bea8-1b55-4bdd-a13d-b144a55947e1",
     "showTitle": false,
     "title": ""
    }
   },
   "source": [
    "## Imports"
   ]
  },
  {
   "cell_type": "code",
   "execution_count": 0,
   "metadata": {
    "application/vnd.databricks.v1+cell": {
     "cellMetadata": {},
     "inputWidgets": {},
     "nuid": "437d58a8-863c-4d36-829c-e764c8e7ee69",
     "showTitle": false,
     "title": ""
    }
   },
   "outputs": [],
   "source": [
    "!pip install dlt"
   ]
  },
  {
   "cell_type": "code",
   "execution_count": 0,
   "metadata": {
    "application/vnd.databricks.v1+cell": {
     "cellMetadata": {},
     "inputWidgets": {},
     "nuid": "bcf7c4dd-151d-48ff-9fbe-e97e4c840779",
     "showTitle": false,
     "title": ""
    }
   },
   "outputs": [],
   "source": [
    "import dlt\n",
    "from pyspark.sql.functions import *\n",
    "from pyspark.sql.types import *"
   ]
  },
  {
   "cell_type": "markdown",
   "metadata": {
    "application/vnd.databricks.v1+cell": {
     "cellMetadata": {},
     "inputWidgets": {},
     "nuid": "8c67ff4f-2492-4c5f-b026-504f261965f1",
     "showTitle": false,
     "title": ""
    }
   },
   "source": [
    "## Ingest raw clickstream data"
   ]
  },
  {
   "cell_type": "code",
   "execution_count": 0,
   "metadata": {
    "application/vnd.databricks.v1+cell": {
     "cellMetadata": {},
     "inputWidgets": {},
     "nuid": "753fc82c-5551-43d6-9faf-9394178557c6",
     "showTitle": false,
     "title": ""
    }
   },
   "outputs": [],
   "source": [
    "json_path = \"/databricks-datasets/wikipedia-datasets/data-001/clickstream/raw-uncompressed-json/2015_2_clickstream.json\"\n",
    "@dlt.create_table(\n",
    "  comment=\"The raw wikipedia clickstream dataset, ingested from /databricks-datasets.\"\n",
    ")\n",
    "def clickstream_raw():          \n",
    "  return (\n",
    "    spark.read.json(json_path)\n",
    "  )"
   ]
  },
  {
   "cell_type": "markdown",
   "metadata": {
    "application/vnd.databricks.v1+cell": {
     "cellMetadata": {},
     "inputWidgets": {},
     "nuid": "e181373c-227e-48c4-9bc2-d16df48817b5",
     "showTitle": false,
     "title": ""
    }
   },
   "source": [
    "## Clean and prepare data"
   ]
  },
  {
   "cell_type": "code",
   "execution_count": 0,
   "metadata": {
    "application/vnd.databricks.v1+cell": {
     "cellMetadata": {},
     "inputWidgets": {},
     "nuid": "b18089fd-6377-4cbc-bf05-67910be54007",
     "showTitle": false,
     "title": ""
    }
   },
   "outputs": [],
   "source": [
    "@dlt.table(\n",
    "  comment=\"Wikipedia clickstream data cleaned and prepared for analysis.\"\n",
    ")\n",
    "@dlt.expect(\"valid_current_page_title\", \"current_page_title IS NOT NULL\")\n",
    "@dlt.expect_or_fail(\"valid_count\", \"click_count > 0\")\n",
    "def clickstream_prepared():\n",
    "  return (\n",
    "    dlt.read(\"clickstream_raw\")\n",
    "      .withColumn(\"click_count\", expr(\"CAST(n AS INT)\"))\n",
    "      .withColumnRenamed(\"curr_title\", \"current_page_title\")\n",
    "      .withColumnRenamed(\"prev_title\", \"previous_page_title\")\n",
    "      .select(\"current_page_title\", \"click_count\", \"previous_page_title\")\n",
    "  )"
   ]
  },
  {
   "cell_type": "code",
   "execution_count": 0,
   "metadata": {
    "application/vnd.databricks.v1+cell": {
     "cellMetadata": {},
     "inputWidgets": {},
     "nuid": "3b970fe3-346d-4711-8517-05d6662b5436",
     "showTitle": false,
     "title": ""
    }
   },
   "outputs": [],
   "source": []
  },
  {
   "cell_type": "code",
   "execution_count": 0,
   "metadata": {
    "application/vnd.databricks.v1+cell": {
     "cellMetadata": {},
     "inputWidgets": {},
     "nuid": "0794f608-9597-44f5-b646-83a90c7685d7",
     "showTitle": false,
     "title": ""
    }
   },
   "outputs": [],
   "source": [
    "@dlt.table(\n",
    "  comment=\"A table containing the top pages linking to the Apache Spark page.\"\n",
    ")\n",
    "def top_spark_referrers():\n",
    "  return (\n",
    "    dlt.read(\"clickstream_prepared\")\n",
    "      .filter(expr(\"current_page_title == 'Apache_Spark'\"))\n",
    "      .withColumnRenamed(\"previous_page_title\", \"referrer\")\n",
    "      .sort(desc(\"click_count\"))\n",
    "      .select(\"referrer\", \"click_count\")\n",
    "      .limit(10)\n",
    "  )"
   ]
  }
 ],
 "metadata": {
  "application/vnd.databricks.v1+notebook": {
   "dashboards": [],
   "language": "python",
   "notebookMetadata": {
    "pythonIndentUnit": 4
   },
   "notebookName": "DeltaLake",
   "widgets": {}
  }
 },
 "nbformat": 4,
 "nbformat_minor": 0
}
