{
 "cells": [
  {
   "cell_type": "markdown",
   "metadata": {
    "application/vnd.databricks.v1+cell": {
     "cellMetadata": {},
     "inputWidgets": {},
     "nuid": "d6d6f58d-adca-4444-ba10-ceb7aaec9674",
     "showTitle": false,
     "title": ""
    }
   },
   "source": [
    "# Access Azure Data Lake using Access Keys\n",
    "\n"
   ]
  },
  {
   "cell_type": "code",
   "execution_count": 0,
   "metadata": {
    "application/vnd.databricks.v1+cell": {
     "cellMetadata": {
      "byteLimit": 2048000,
      "rowLimit": 10000
     },
     "inputWidgets": {},
     "nuid": "0be86a57-f2c6-4456-82f6-d6284b1f23dc",
     "showTitle": false,
     "title": ""
    }
   },
   "outputs": [],
   "source": [
    "datalake_spec = \"\"\n",
    "datalake_key =  \"\"\n"
   ]
  },
  {
   "cell_type": "code",
   "execution_count": 0,
   "metadata": {
    "application/vnd.databricks.v1+cell": {
     "cellMetadata": {
      "byteLimit": 2048000,
      "rowLimit": 10000
     },
     "inputWidgets": {},
     "nuid": "04b9e718-a290-43e6-bc66-ec208855c7b1",
     "showTitle": false,
     "title": ""
    }
   },
   "outputs": [
    {
     "output_type": "stream",
     "name": "stdout",
     "output_type": "stream",
     "text": [
      "Out[2]: '/databricks/driver/configuration.ipynb'"
     ]
    }
   ],
   "source": [
    "#to get working dir\n",
    "\n",
    "# import os\n",
    "# notebook_filename = 'configuration.ipynb'\n",
    "\n",
    "# # Get the absolute path of the notebook file\n",
    "# absolute_path = os.path.abspath(notebook_filename)\n",
    "# absolute_path"
   ]
  }
 ],
 "metadata": {
  "application/vnd.databricks.v1+notebook": {
   "dashboards": [],
   "language": "python",
   "notebookMetadata": {
    "pythonIndentUnit": 4
   },
   "notebookName": "configuration",
   "widgets": {}
  }
 },
 "nbformat": 4,
 "nbformat_minor": 0
}
