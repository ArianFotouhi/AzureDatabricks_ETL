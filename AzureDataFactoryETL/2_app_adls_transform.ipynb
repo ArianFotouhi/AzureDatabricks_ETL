{
 "cells": [
  {
   "cell_type": "markdown",
   "metadata": {
    "application/vnd.databricks.v1+cell": {
     "cellMetadata": {
      "byteLimit": 2048000,
      "rowLimit": 10000
     },
     "inputWidgets": {},
     "nuid": "8e00f814-803c-4ae3-92c5-15241bf3f8db",
     "showTitle": false,
     "title": ""
    }
   },
   "source": [
    "# ETL using Databricks & Azure Data Lake"
   ]
  },
  {
   "cell_type": "markdown",
   "metadata": {
    "application/vnd.databricks.v1+cell": {
     "cellMetadata": {
      "byteLimit": 2048000,
      "rowLimit": 10000
     },
     "inputWidgets": {},
     "nuid": "f7eb3086-5421-42c6-a7ba-c52ba4c934f5",
     "showTitle": false,
     "title": ""
    }
   },
   "source": [
    "## Transform"
   ]
  },
  {
   "cell_type": "markdown",
   "metadata": {
    "application/vnd.databricks.v1+cell": {
     "cellMetadata": {
      "byteLimit": 2048000,
      "rowLimit": 10000
     },
     "inputWidgets": {},
     "nuid": "09534701-6b1a-4668-9fad-a749c225f659",
     "showTitle": false,
     "title": ""
    }
   },
   "source": [
    "#### Pick up the required columns"
   ]
  },
  {
   "cell_type": "code",
   "execution_count": 0,
   "metadata": {
    "application/vnd.databricks.v1+cell": {
     "cellMetadata": {
      "byteLimit": 2048000,
      "rowLimit": 10000
     },
     "inputWidgets": {},
     "nuid": "4e12b147-3172-44d6-82ee-b62afe82b57d",
     "showTitle": false,
     "title": ""
    }
   },
   "outputs": [],
   "source": [
    "dl_spec = \"\"\n",
    "dl_key = \"\"\n",
    "\n",
    "spark.conf.set(\n",
    "    dl_spec,\n",
    "    dl_key\n",
    ")\n",
    "\n",
    "circuits_df = spark.read.option(\"header\",True).csv(\"abfss://container@arianazuredl1.dfs.core.windows.net/circuits.csv\")\n",
    "races_df = spark.read.option(\"header\",True).csv(\"abfss://container@arianazuredl1.dfs.core.windows.net/races.csv\")"
   ]
  },
  {
   "cell_type": "code",
   "execution_count": 0,
   "metadata": {
    "application/vnd.databricks.v1+cell": {
     "cellMetadata": {
      "byteLimit": 2048000,
      "rowLimit": 10000
     },
     "inputWidgets": {},
     "nuid": "5d75670d-d616-48b4-b2c9-7b63e6d18e94",
     "showTitle": false,
     "title": ""
    }
   },
   "outputs": [],
   "source": [
    "from pyspark.sql.functions import col"
   ]
  },
  {
   "cell_type": "code",
   "execution_count": 0,
   "metadata": {
    "application/vnd.databricks.v1+cell": {
     "cellMetadata": {
      "byteLimit": 2048000,
      "rowLimit": 10000
     },
     "inputWidgets": {},
     "nuid": "64723740-2a74-405e-bd61-d13e3e390df2",
     "showTitle": false,
     "title": ""
    }
   },
   "outputs": [],
   "source": [
    "circuits_selected_df = circuits_df.select(col(\"circuitId\").alias(\"circuit_id\"), col(\"circuitRef\").alias(\"circuit_ref\"), col(\"name\"),\n",
    "                                          col(\"location\"), col(\"country\"), col(\"lat\").alias(\"latitude\"), col(\"lng\").alias(\"longitude\"), col(\"alt\").alias(\"altitude\"))"
   ]
  },
  {
   "cell_type": "code",
   "execution_count": 0,
   "metadata": {
    "application/vnd.databricks.v1+cell": {
     "cellMetadata": {
      "byteLimit": 2048000,
      "rowLimit": 10000
     },
     "inputWidgets": {},
     "nuid": "a6485aaa-8a4b-42b2-8868-06c90423288f",
     "showTitle": false,
     "title": ""
    }
   },
   "outputs": [
    {
     "output_type": "stream",
     "name": "stdout",
     "output_type": "stream",
     "text": [
      "+----------+--------------+--------------------+------------+---------+--------+---------+--------+\n|circuit_id|   circuit_ref|                name|    location|  country|latitude|longitude|altitude|\n+----------+--------------+--------------------+------------+---------+--------+---------+--------+\n|         1|   albert_park|Albert Park Grand...|   Melbourne|Australia|-37.8497|  144.968|      10|\n|         2|        sepang|Sepang Internatio...|Kuala Lumpur| Malaysia| 2.76083|  101.738|      18|\n|         3|       bahrain|Bahrain Internati...|      Sakhir|  Bahrain| 26.0325|  50.5106|       7|\n|         4|     catalunya|Circuit de Barcel...|    Montmeló|    Spain|   41.57|  2.26111|     109|\n|         5|      istanbul|       Istanbul Park|    Istanbul|   Turkey| 40.9517|   29.405|     130|\n|         6|        monaco|   Circuit de Monaco| Monte-Carlo|   Monaco| 43.7347|  7.42056|       7|\n|         7|    villeneuve|Circuit Gilles Vi...|    Montreal|   Canada|    45.5| -73.5228|      13|\n|         8|   magny_cours|Circuit de Nevers...| Magny Cours|   France| 46.8642|  3.16361|     228|\n|         9|   silverstone| Silverstone Circuit| Silverstone|       UK| 52.0786| -1.01694|     153|\n|        10|hockenheimring|      Hockenheimring|  Hockenheim|  Germany| 49.3278|  8.56583|     103|\n|        11|   hungaroring|         Hungaroring|    Budapest|  Hungary| 47.5789|  19.2486|     264|\n|        12|      valencia|Valencia Street C...|    Valencia|    Spain| 39.4589|-0.331667|       4|\n|        13|           spa|Circuit de Spa-Fr...|         Spa|  Belgium| 50.4372|  5.97139|     401|\n|        14|         monza|Autodromo Naziona...|       Monza|    Italy| 45.6156|  9.28111|     162|\n|        15|    marina_bay|Marina Bay Street...|  Marina Bay|Singapore|  1.2914|  103.864|      18|\n|        16|          fuji|       Fuji Speedway|       Oyama|    Japan| 35.3717|  138.927|     583|\n|        17|      shanghai|Shanghai Internat...|    Shanghai|    China| 31.3389|   121.22|       5|\n|        18|    interlagos|Autódromo José Ca...|   São Paulo|   Brazil|-23.7036| -46.6997|     785|\n|        19|  indianapolis|Indianapolis Moto...|Indianapolis|      USA|  39.795| -86.2347|     223|\n|        20|   nurburgring|         Nürburgring|     Nürburg|  Germany| 50.3356|   6.9475|     578|\n+----------+--------------+--------------------+------------+---------+--------+---------+--------+\nonly showing top 20 rows\n\n"
     ]
    }
   ],
   "source": [
    "circuits_selected_df.show()"
   ]
  },
  {
   "cell_type": "markdown",
   "metadata": {
    "application/vnd.databricks.v1+cell": {
     "cellMetadata": {
      "byteLimit": 2048000,
      "rowLimit": 10000
     },
     "inputWidgets": {},
     "nuid": "80b59d51-3062-46bf-ab3f-fc8289cdcdbd",
     "showTitle": false,
     "title": ""
    }
   },
   "source": [
    "#### Adding ingestion date as a column "
   ]
  },
  {
   "cell_type": "code",
   "execution_count": 0,
   "metadata": {
    "application/vnd.databricks.v1+cell": {
     "cellMetadata": {
      "byteLimit": 2048000,
      "rowLimit": 10000
     },
     "inputWidgets": {},
     "nuid": "9d3596e5-d64c-4d8b-b13a-b70a9f7d3910",
     "showTitle": false,
     "title": ""
    }
   },
   "outputs": [],
   "source": [
    "from pyspark.sql.functions import current_timestamp"
   ]
  },
  {
   "cell_type": "code",
   "execution_count": 0,
   "metadata": {
    "application/vnd.databricks.v1+cell": {
     "cellMetadata": {
      "byteLimit": 2048000,
      "rowLimit": 10000
     },
     "inputWidgets": {},
     "nuid": "a2173f26-3c09-4ee1-98cd-342327892cd4",
     "showTitle": false,
     "title": ""
    }
   },
   "outputs": [],
   "source": [
    "circuits_added_df = circuits_selected_df.withColumn(\"ingestion_date\",current_timestamp())"
   ]
  },
  {
   "cell_type": "code",
   "execution_count": 0,
   "metadata": {
    "application/vnd.databricks.v1+cell": {
     "cellMetadata": {
      "byteLimit": 2048000,
      "rowLimit": 10000
     },
     "inputWidgets": {},
     "nuid": "c1002fd7-70c3-4a70-b5ea-513dcb8e5682",
     "showTitle": false,
     "title": ""
    }
   },
   "outputs": [],
   "source": [
    "from pyspark.sql.functions import current_timestamp, lit, to_timestamp, concat, col"
   ]
  },
  {
   "cell_type": "code",
   "execution_count": 0,
   "metadata": {
    "application/vnd.databricks.v1+cell": {
     "cellMetadata": {
      "byteLimit": 2048000,
      "rowLimit": 10000
     },
     "inputWidgets": {},
     "nuid": "ad2bc35a-06c0-44be-8ea7-88d4d0f4d052",
     "showTitle": false,
     "title": ""
    }
   },
   "outputs": [],
   "source": [
    "races_with_timestamp_df = races_df.withColumn(\"ingestion_date\",current_timestamp()) \\\n",
    "                                .withColumn(\"race_timestamp\", to_timestamp(concat(col('date'), lit(' '), col('time')), 'yyyy-MM-dd HH:mm:ss'))\n"
   ]
  },
  {
   "cell_type": "code",
   "execution_count": 0,
   "metadata": {
    "application/vnd.databricks.v1+cell": {
     "cellMetadata": {
      "byteLimit": 2048000,
      "rowLimit": 10000
     },
     "inputWidgets": {},
     "nuid": "daf209d1-f807-4c7c-a26c-71277100b2e2",
     "showTitle": false,
     "title": ""
    }
   },
   "outputs": [
    {
     "output_type": "stream",
     "name": "stdout",
     "output_type": "stream",
     "text": [
      "+------+----+-----+---------+--------------------+----------+--------+--------------------+--------------------+-------------------+\n|raceId|year|round|circuitId|                name|      date|    time|                 url|      ingestion_date|     race_timestamp|\n+------+----+-----+---------+--------------------+----------+--------+--------------------+--------------------+-------------------+\n|     1|2009|    1|        1|Australian Grand ...|2009-03-29|06:00:00|http://en.wikiped...|2023-09-18 16:13:...|2009-03-29 06:00:00|\n|     2|2009|    2|        2|Malaysian Grand Prix|2009-04-05|09:00:00|http://en.wikiped...|2023-09-18 16:13:...|2009-04-05 09:00:00|\n|     3|2009|    3|       17|  Chinese Grand Prix|2009-04-19|07:00:00|http://en.wikiped...|2023-09-18 16:13:...|2009-04-19 07:00:00|\n|     4|2009|    4|        3|  Bahrain Grand Prix|2009-04-26|12:00:00|http://en.wikiped...|2023-09-18 16:13:...|2009-04-26 12:00:00|\n|     5|2009|    5|        4|  Spanish Grand Prix|2009-05-10|12:00:00|http://en.wikiped...|2023-09-18 16:13:...|2009-05-10 12:00:00|\n|     6|2009|    6|        6|   Monaco Grand Prix|2009-05-24|12:00:00|http://en.wikiped...|2023-09-18 16:13:...|2009-05-24 12:00:00|\n|     7|2009|    7|        5|  Turkish Grand Prix|2009-06-07|12:00:00|http://en.wikiped...|2023-09-18 16:13:...|2009-06-07 12:00:00|\n|     8|2009|    8|        9|  British Grand Prix|2009-06-21|12:00:00|http://en.wikiped...|2023-09-18 16:13:...|2009-06-21 12:00:00|\n|     9|2009|    9|       20|   German Grand Prix|2009-07-12|12:00:00|http://en.wikiped...|2023-09-18 16:13:...|2009-07-12 12:00:00|\n|    10|2009|   10|       11|Hungarian Grand Prix|2009-07-26|12:00:00|http://en.wikiped...|2023-09-18 16:13:...|2009-07-26 12:00:00|\n|    11|2009|   11|       12| European Grand Prix|2009-08-23|12:00:00|http://en.wikiped...|2023-09-18 16:13:...|2009-08-23 12:00:00|\n|    12|2009|   12|       13|  Belgian Grand Prix|2009-08-30|12:00:00|http://en.wikiped...|2023-09-18 16:13:...|2009-08-30 12:00:00|\n|    13|2009|   13|       14|  Italian Grand Prix|2009-09-13|12:00:00|http://en.wikiped...|2023-09-18 16:13:...|2009-09-13 12:00:00|\n|    14|2009|   14|       15|Singapore Grand Prix|2009-09-27|12:00:00|http://en.wikiped...|2023-09-18 16:13:...|2009-09-27 12:00:00|\n|    15|2009|   15|       22| Japanese Grand Prix|2009-10-04|05:00:00|http://en.wikiped...|2023-09-18 16:13:...|2009-10-04 05:00:00|\n|    16|2009|   16|       18|Brazilian Grand Prix|2009-10-18|16:00:00|http://en.wikiped...|2023-09-18 16:13:...|2009-10-18 16:00:00|\n|    17|2009|   17|       24|Abu Dhabi Grand Prix|2009-11-01|11:00:00|http://en.wikiped...|2023-09-18 16:13:...|2009-11-01 11:00:00|\n|    18|2008|    1|        1|Australian Grand ...|2008-03-16|04:30:00|http://en.wikiped...|2023-09-18 16:13:...|2008-03-16 04:30:00|\n|    19|2008|    2|        2|Malaysian Grand Prix|2008-03-23|07:00:00|http://en.wikiped...|2023-09-18 16:13:...|2008-03-23 07:00:00|\n|    20|2008|    3|        3|  Bahrain Grand Prix|2008-04-06|11:30:00|http://en.wikiped...|2023-09-18 16:13:...|2008-04-06 11:30:00|\n+------+----+-----+---------+--------------------+----------+--------+--------------------+--------------------+-------------------+\nonly showing top 20 rows\n\n"
     ]
    }
   ],
   "source": [
    "races_with_timestamp_df.show()"
   ]
  },
  {
   "cell_type": "markdown",
   "metadata": {
    "application/vnd.databricks.v1+cell": {
     "cellMetadata": {
      "byteLimit": 2048000,
      "rowLimit": 10000
     },
     "inputWidgets": {},
     "nuid": "5d588f54-8cc4-4f25-9feb-1b6f9bcffe14",
     "showTitle": false,
     "title": ""
    }
   },
   "source": [
    "#### Replace null values"
   ]
  },
  {
   "cell_type": "code",
   "execution_count": 0,
   "metadata": {
    "application/vnd.databricks.v1+cell": {
     "cellMetadata": {
      "byteLimit": 2048000,
      "rowLimit": 10000
     },
     "inputWidgets": {},
     "nuid": "eae8670a-8f87-40c9-913a-d3569babe98b",
     "showTitle": false,
     "title": ""
    }
   },
   "outputs": [],
   "source": [
    "cleaned_circuits_df = circuits_added_df.na.fill({\"country\":\"unkown\", \n",
    "                                                 \"location\":\"unkown\"})"
   ]
  },
  {
   "cell_type": "markdown",
   "metadata": {
    "application/vnd.databricks.v1+cell": {
     "cellMetadata": {
      "byteLimit": 2048000,
      "rowLimit": 10000
     },
     "inputWidgets": {},
     "nuid": "d8d120fa-33cd-4b8c-b647-308787ac3399",
     "showTitle": false,
     "title": ""
    }
   },
   "source": [
    "#### Drop Duplicated values"
   ]
  },
  {
   "cell_type": "code",
   "execution_count": 0,
   "metadata": {
    "application/vnd.databricks.v1+cell": {
     "cellMetadata": {
      "byteLimit": 2048000,
      "rowLimit": 10000
     },
     "inputWidgets": {},
     "nuid": "2d216977-ffe6-4fe8-bc92-7a8cf5fc19df",
     "showTitle": false,
     "title": ""
    }
   },
   "outputs": [
    {
     "output_type": "stream",
     "name": "stdout",
     "output_type": "stream",
     "text": [
      "+----------+--------------+--------------------+------------+---------+--------+---------+--------+--------------------+\n|circuit_id|   circuit_ref|                name|    location|  country|latitude|longitude|altitude|      ingestion_date|\n+----------+--------------+--------------------+------------+---------+--------+---------+--------+--------------------+\n|         8|   magny_cours|Circuit de Nevers...| Magny Cours|   France| 46.8642|  3.16361|     228|2023-09-18 16:13:...|\n|        18|    interlagos|Autódromo José Ca...|   São Paulo|   Brazil|-23.7036| -46.6997|     785|2023-09-18 16:13:...|\n|        19|  indianapolis|Indianapolis Moto...|Indianapolis|      USA|  39.795| -86.2347|     223|2023-09-18 16:13:...|\n|         5|      istanbul|       Istanbul Park|    Istanbul|   Turkey| 40.9517|   29.405|     130|2023-09-18 16:13:...|\n|        15|    marina_bay|Marina Bay Street...|  Marina Bay|Singapore|  1.2914|  103.864|      18|2023-09-18 16:13:...|\n|        17|      shanghai|Shanghai Internat...|    Shanghai|    China| 31.3389|   121.22|       5|2023-09-18 16:13:...|\n|         3|       bahrain|Bahrain Internati...|      Sakhir|  Bahrain| 26.0325|  50.5106|       7|2023-09-18 16:13:...|\n|         4|     catalunya|Circuit de Barcel...|    Montmeló|    Spain|   41.57|  2.26111|     109|2023-09-18 16:13:...|\n|        21|         imola|Autodromo Enzo e ...|       Imola|    Italy| 44.3439|  11.7167|      37|2023-09-18 16:13:...|\n|         9|   silverstone| Silverstone Circuit| Silverstone|       UK| 52.0786| -1.01694|     153|2023-09-18 16:13:...|\n|        10|hockenheimring|      Hockenheimring|  Hockenheim|  Germany| 49.3278|  8.56583|     103|2023-09-18 16:13:...|\n|        12|      valencia|Valencia Street C...|    Valencia|    Spain| 39.4589|-0.331667|       4|2023-09-18 16:13:...|\n|        11|   hungaroring|         Hungaroring|    Budapest|  Hungary| 47.5789|  19.2486|     264|2023-09-18 16:13:...|\n|         6|        monaco|   Circuit de Monaco| Monte-Carlo|   Monaco| 43.7347|  7.42056|       7|2023-09-18 16:13:...|\n|         7|    villeneuve|Circuit Gilles Vi...|    Montreal|   Canada|    45.5| -73.5228|      13|2023-09-18 16:13:...|\n|        13|           spa|Circuit de Spa-Fr...|         Spa|  Belgium| 50.4372|  5.97139|     401|2023-09-18 16:13:...|\n|         1|   albert_park|Albert Park Grand...|   Melbourne|Australia|-37.8497|  144.968|      10|2023-09-18 16:13:...|\n|        20|   nurburgring|         Nürburgring|     Nürburg|  Germany| 50.3356|   6.9475|     578|2023-09-18 16:13:...|\n|        16|          fuji|       Fuji Speedway|       Oyama|    Japan| 35.3717|  138.927|     583|2023-09-18 16:13:...|\n|        14|         monza|Autodromo Naziona...|       Monza|    Italy| 45.6156|  9.28111|     162|2023-09-18 16:13:...|\n+----------+--------------+--------------------+------------+---------+--------+---------+--------+--------------------+\nonly showing top 20 rows\n\n"
     ]
    }
   ],
   "source": [
    "drop_dup_circuits_df = cleaned_circuits_df.dropDuplicates()\n",
    "drop_dup_circuits_df.show()"
   ]
  },
  {
   "cell_type": "markdown",
   "metadata": {
    "application/vnd.databricks.v1+cell": {
     "cellMetadata": {
      "byteLimit": 2048000,
      "rowLimit": 10000
     },
     "inputWidgets": {},
     "nuid": "f0613709-a874-4b0f-8683-2794bf6b9fd6",
     "showTitle": false,
     "title": ""
    }
   },
   "source": [
    "#### Filter out records before 1960 and after 2022"
   ]
  },
  {
   "cell_type": "code",
   "execution_count": 0,
   "metadata": {
    "application/vnd.databricks.v1+cell": {
     "cellMetadata": {
      "byteLimit": 2048000,
      "rowLimit": 10000
     },
     "inputWidgets": {},
     "nuid": "5faeeada-4b19-48dd-8bdc-8ec95262228f",
     "showTitle": false,
     "title": ""
    }
   },
   "outputs": [
    {
     "output_type": "stream",
     "name": "stdout",
     "output_type": "stream",
     "text": [
      "+------+----+-----+---------+--------------------+----------+--------+--------------------+--------------------+-------------------+\n|raceId|year|round|circuitId|                name|      date|    time|                 url|      ingestion_date|     race_timestamp|\n+------+----+-----+---------+--------------------+----------+--------+--------------------+--------------------+-------------------+\n|     1|2009|    1|        1|Australian Grand ...|2009-03-29|06:00:00|http://en.wikiped...|2023-09-18 16:13:...|2009-03-29 06:00:00|\n|     2|2009|    2|        2|Malaysian Grand Prix|2009-04-05|09:00:00|http://en.wikiped...|2023-09-18 16:13:...|2009-04-05 09:00:00|\n|     3|2009|    3|       17|  Chinese Grand Prix|2009-04-19|07:00:00|http://en.wikiped...|2023-09-18 16:13:...|2009-04-19 07:00:00|\n|     4|2009|    4|        3|  Bahrain Grand Prix|2009-04-26|12:00:00|http://en.wikiped...|2023-09-18 16:13:...|2009-04-26 12:00:00|\n|     5|2009|    5|        4|  Spanish Grand Prix|2009-05-10|12:00:00|http://en.wikiped...|2023-09-18 16:13:...|2009-05-10 12:00:00|\n|     6|2009|    6|        6|   Monaco Grand Prix|2009-05-24|12:00:00|http://en.wikiped...|2023-09-18 16:13:...|2009-05-24 12:00:00|\n|     7|2009|    7|        5|  Turkish Grand Prix|2009-06-07|12:00:00|http://en.wikiped...|2023-09-18 16:13:...|2009-06-07 12:00:00|\n|     8|2009|    8|        9|  British Grand Prix|2009-06-21|12:00:00|http://en.wikiped...|2023-09-18 16:13:...|2009-06-21 12:00:00|\n|     9|2009|    9|       20|   German Grand Prix|2009-07-12|12:00:00|http://en.wikiped...|2023-09-18 16:13:...|2009-07-12 12:00:00|\n|    10|2009|   10|       11|Hungarian Grand Prix|2009-07-26|12:00:00|http://en.wikiped...|2023-09-18 16:13:...|2009-07-26 12:00:00|\n|    11|2009|   11|       12| European Grand Prix|2009-08-23|12:00:00|http://en.wikiped...|2023-09-18 16:13:...|2009-08-23 12:00:00|\n|    12|2009|   12|       13|  Belgian Grand Prix|2009-08-30|12:00:00|http://en.wikiped...|2023-09-18 16:13:...|2009-08-30 12:00:00|\n|    13|2009|   13|       14|  Italian Grand Prix|2009-09-13|12:00:00|http://en.wikiped...|2023-09-18 16:13:...|2009-09-13 12:00:00|\n|    14|2009|   14|       15|Singapore Grand Prix|2009-09-27|12:00:00|http://en.wikiped...|2023-09-18 16:13:...|2009-09-27 12:00:00|\n|    15|2009|   15|       22| Japanese Grand Prix|2009-10-04|05:00:00|http://en.wikiped...|2023-09-18 16:13:...|2009-10-04 05:00:00|\n|    16|2009|   16|       18|Brazilian Grand Prix|2009-10-18|16:00:00|http://en.wikiped...|2023-09-18 16:13:...|2009-10-18 16:00:00|\n|    17|2009|   17|       24|Abu Dhabi Grand Prix|2009-11-01|11:00:00|http://en.wikiped...|2023-09-18 16:13:...|2009-11-01 11:00:00|\n|    18|2008|    1|        1|Australian Grand ...|2008-03-16|04:30:00|http://en.wikiped...|2023-09-18 16:13:...|2008-03-16 04:30:00|\n|    19|2008|    2|        2|Malaysian Grand Prix|2008-03-23|07:00:00|http://en.wikiped...|2023-09-18 16:13:...|2008-03-23 07:00:00|\n|    20|2008|    3|        3|  Bahrain Grand Prix|2008-04-06|11:30:00|http://en.wikiped...|2023-09-18 16:13:...|2008-04-06 11:30:00|\n+------+----+-----+---------+--------------------+----------+--------+--------------------+--------------------+-------------------+\nonly showing top 20 rows\n\n"
     ]
    }
   ],
   "source": [
    "filtered_race_df =races_with_timestamp_df.filter((races_with_timestamp_df['year']>=1960) & (races_with_timestamp_df['year']<=2022))\n",
    "filtered_race_df.show()"
   ]
  },
  {
   "cell_type": "code",
   "execution_count": 0,
   "metadata": {
    "application/vnd.databricks.v1+cell": {
     "cellMetadata": {
      "byteLimit": 2048000,
      "rowLimit": 10000
     },
     "inputWidgets": {},
     "nuid": "6bb58d02-6cd1-4950-ae25-9a00ec4670f7",
     "showTitle": false,
     "title": ""
    }
   },
   "outputs": [
    {
     "output_type": "stream",
     "name": "stdout",
     "output_type": "stream",
     "text": [
      "+----------+-----------+--------------------+------------+---------+-------------------+------+----+--------+\n|circuit_id|circuit_ref|                name|    location|  country|     race_timestamp|raceId|year|altitude|\n+----------+-----------+--------------------+------------+---------+-------------------+------+----+--------+\n|         1|albert_park|Albert Park Grand...|   Melbourne|Australia|2009-03-29 06:00:00|     1|2009|      10|\n|         2|     sepang|Sepang Internatio...|Kuala Lumpur| Malaysia|2009-04-05 09:00:00|     2|2009|      18|\n|        17|   shanghai|Shanghai Internat...|    Shanghai|    China|2009-04-19 07:00:00|     3|2009|       5|\n|         3|    bahrain|Bahrain Internati...|      Sakhir|  Bahrain|2009-04-26 12:00:00|     4|2009|       7|\n|         4|  catalunya|Circuit de Barcel...|    Montmeló|    Spain|2009-05-10 12:00:00|     5|2009|     109|\n|         6|     monaco|   Circuit de Monaco| Monte-Carlo|   Monaco|2009-05-24 12:00:00|     6|2009|       7|\n|         5|   istanbul|       Istanbul Park|    Istanbul|   Turkey|2009-06-07 12:00:00|     7|2009|     130|\n|         9|silverstone| Silverstone Circuit| Silverstone|       UK|2009-06-21 12:00:00|     8|2009|     153|\n|        20|nurburgring|         Nürburgring|     Nürburg|  Germany|2009-07-12 12:00:00|     9|2009|     578|\n|        11|hungaroring|         Hungaroring|    Budapest|  Hungary|2009-07-26 12:00:00|    10|2009|     264|\n|        12|   valencia|Valencia Street C...|    Valencia|    Spain|2009-08-23 12:00:00|    11|2009|       4|\n|        13|        spa|Circuit de Spa-Fr...|         Spa|  Belgium|2009-08-30 12:00:00|    12|2009|     401|\n|        14|      monza|Autodromo Naziona...|       Monza|    Italy|2009-09-13 12:00:00|    13|2009|     162|\n|        15| marina_bay|Marina Bay Street...|  Marina Bay|Singapore|2009-09-27 12:00:00|    14|2009|      18|\n|        22|     suzuka|      Suzuka Circuit|      Suzuka|    Japan|2009-10-04 05:00:00|    15|2009|      45|\n|        18| interlagos|Autódromo José Ca...|   São Paulo|   Brazil|2009-10-18 16:00:00|    16|2009|     785|\n|        24| yas_marina|  Yas Marina Circuit|   Abu Dhabi|      UAE|2009-11-01 11:00:00|    17|2009|       3|\n|         1|albert_park|Albert Park Grand...|   Melbourne|Australia|2008-03-16 04:30:00|    18|2008|      10|\n|         2|     sepang|Sepang Internatio...|Kuala Lumpur| Malaysia|2008-03-23 07:00:00|    19|2008|      18|\n|         3|    bahrain|Bahrain Internati...|      Sakhir|  Bahrain|2008-04-06 11:30:00|    20|2008|       7|\n+----------+-----------+--------------------+------------+---------+-------------------+------+----+--------+\nonly showing top 20 rows\n\n"
     ]
    }
   ],
   "source": [
    "join_df = drop_dup_circuits_df.join(filtered_race_df, drop_dup_circuits_df.circuit_id == filtered_race_df.circuitId,\"Inner\")\n",
    "select_join_df = join_df.select(drop_dup_circuits_df.circuit_id, drop_dup_circuits_df.circuit_ref, drop_dup_circuits_df.name, drop_dup_circuits_df.location, drop_dup_circuits_df.country,\n",
    "               filtered_race_df.race_timestamp, filtered_race_df.raceId, filtered_race_df.year, drop_dup_circuits_df.altitude )\n",
    "select_join_df.show()"
   ]
  },
  {
   "cell_type": "markdown",
   "metadata": {
    "application/vnd.databricks.v1+cell": {
     "cellMetadata": {
      "byteLimit": 2048000,
      "rowLimit": 10000
     },
     "inputWidgets": {},
     "nuid": "045b32dd-69f0-47c8-af9f-fa40df9db05b",
     "showTitle": false,
     "title": ""
    }
   },
   "source": [
    "#### Number of unique race names"
   ]
  },
  {
   "cell_type": "code",
   "execution_count": 0,
   "metadata": {
    "application/vnd.databricks.v1+cell": {
     "cellMetadata": {
      "byteLimit": 2048000,
      "rowLimit": 10000
     },
     "inputWidgets": {},
     "nuid": "15e3e5b1-8b1a-4035-8fa5-8d2a83f57430",
     "showTitle": false,
     "title": ""
    }
   },
   "outputs": [],
   "source": [
    "from pyspark.sql.functions import countDistinct"
   ]
  },
  {
   "cell_type": "code",
   "execution_count": 0,
   "metadata": {
    "application/vnd.databricks.v1+cell": {
     "cellMetadata": {
      "byteLimit": 2048000,
      "rowLimit": 10000
     },
     "inputWidgets": {},
     "nuid": "d0812f6a-f5ec-4d18-82de-ce517073fd16",
     "showTitle": false,
     "title": ""
    }
   },
   "outputs": [
    {
     "output_type": "stream",
     "name": "stdout",
     "output_type": "stream",
     "text": [
      "+--------------------+\n|count(DISTINCT name)|\n+--------------------+\n|                  68|\n+--------------------+\n\n"
     ]
    }
   ],
   "source": [
    "select_join_df.select(countDistinct(\"name\")).show()"
   ]
  },
  {
   "cell_type": "markdown",
   "metadata": {
    "application/vnd.databricks.v1+cell": {
     "cellMetadata": {
      "byteLimit": 2048000,
      "rowLimit": 10000
     },
     "inputWidgets": {},
     "nuid": "bcd0a4b8-3e00-4790-8895-e6aa5d8a6a01",
     "showTitle": false,
     "title": ""
    }
   },
   "source": [
    "#### Apply GroupBy "
   ]
  },
  {
   "cell_type": "code",
   "execution_count": 0,
   "metadata": {
    "application/vnd.databricks.v1+cell": {
     "cellMetadata": {
      "byteLimit": 2048000,
      "rowLimit": 10000
     },
     "inputWidgets": {},
     "nuid": "78823557-a68b-4c3a-bfd1-364b91350823",
     "showTitle": false,
     "title": ""
    }
   },
   "outputs": [],
   "source": [
    "from pyspark.sql.functions import col\n",
    "from pyspark.sql.types import IntegerType\n",
    "\n",
    "select_join_df = select_join_df.withColumn(\"altitude\", col(\"altitude\").cast(IntegerType()))"
   ]
  },
  {
   "cell_type": "code",
   "execution_count": 0,
   "metadata": {
    "application/vnd.databricks.v1+cell": {
     "cellMetadata": {
      "byteLimit": 2048000,
      "rowLimit": 10000
     },
     "inputWidgets": {},
     "nuid": "1b8e944c-0966-4f15-8692-4294c25d4e6e",
     "showTitle": false,
     "title": ""
    }
   },
   "outputs": [
    {
     "output_type": "stream",
     "name": "stdout",
     "output_type": "stream",
     "text": [
      "+--------------------+------------+\n|                name|sum_altitude|\n+--------------------+------------+\n|           Fair Park|         139|\n|Scandinavian Raceway|         918|\n|       Istanbul Park|        1040|\n|Albert Park Grand...|         250|\n|Circuito da Boavista|          28|\n|Circuit Gilles Vi...|         533|\n|Adelaide Street C...|         638|\n|Korean Internatio...|           0|\n|      Suzuka Circuit|        1440|\n|Buddh Internation...|         582|\n|Autodromo Naziona...|        9882|\n|   Baku City Circuit|         -35|\n| Silverstone Circuit|        7497|\n|             A1-Ring|       16950|\n|  Yas Marina Circuit|          39|\n|   Rouen-Les-Essarts|         243|\n|Circuit de Barcel...|        3379|\n|Circuit de Spa-Fr...|       18446|\n|Autódromo José Ca...|       29830|\n|Okayama Internati...|         532|\n+--------------------+------------+\nonly showing top 20 rows\n\n"
     ]
    }
   ],
   "source": [
    "result_df = select_join_df.groupBy(\"name\").sum(\"altitude\").withColumnRenamed(\"sum(altitude)\", \"sum_altitude\")\n",
    "result_df.show()"
   ]
  },
  {
   "cell_type": "markdown",
   "metadata": {
    "application/vnd.databricks.v1+cell": {
     "cellMetadata": {
      "byteLimit": 2048000,
      "rowLimit": 10000
     },
     "inputWidgets": {},
     "nuid": "fe711bff-42d2-46c5-a918-dccd06feb2b4",
     "showTitle": false,
     "title": ""
    }
   },
   "source": [
    "#### Add the results to the existing dataframe"
   ]
  },
  {
   "cell_type": "code",
   "execution_count": 0,
   "metadata": {
    "application/vnd.databricks.v1+cell": {
     "cellMetadata": {
      "byteLimit": 2048000,
      "rowLimit": 10000
     },
     "inputWidgets": {},
     "nuid": "1cc781a6-3f98-4fdd-90b4-8b7ff29d1aa2",
     "showTitle": false,
     "title": ""
    }
   },
   "outputs": [
    {
     "output_type": "stream",
     "name": "stdout",
     "output_type": "stream",
     "text": [
      "+--------------------+----------+-----------+------------+---------+-------------------+------+----+--------+------------+\n|                name|circuit_id|circuit_ref|    location|  country|     race_timestamp|raceId|year|altitude|sum_altitude|\n+--------------------+----------+-----------+------------+---------+-------------------+------+----+--------+------------+\n|Albert Park Grand...|         1|albert_park|   Melbourne|Australia|2009-03-29 06:00:00|     1|2009|      10|         250|\n|Sepang Internatio...|         2|     sepang|Kuala Lumpur| Malaysia|2009-04-05 09:00:00|     2|2009|      18|         342|\n|Shanghai Internat...|        17|   shanghai|    Shanghai|    China|2009-04-19 07:00:00|     3|2009|       5|          80|\n|Bahrain Internati...|         3|    bahrain|      Sakhir|  Bahrain|2009-04-26 12:00:00|     4|2009|       7|         126|\n|Circuit de Barcel...|         4|  catalunya|    Montmeló|    Spain|2009-05-10 12:00:00|     5|2009|     109|        3379|\n|   Circuit de Monaco|         6|     monaco| Monte-Carlo|   Monaco|2009-05-24 12:00:00|     6|2009|       7|         427|\n|       Istanbul Park|         5|   istanbul|    Istanbul|   Turkey|2009-06-07 12:00:00|     7|2009|     130|        1040|\n| Silverstone Circuit|         9|silverstone| Silverstone|       UK|2009-06-21 12:00:00|     8|2009|     153|        7497|\n|         Nürburgring|        20|nurburgring|     Nürburg|  Germany|2009-07-12 12:00:00|     9|2009|     578|       20230|\n|         Hungaroring|        11|hungaroring|    Budapest|  Hungary|2009-07-26 12:00:00|    10|2009|     264|        9504|\n|Valencia Street C...|        12|   valencia|    Valencia|    Spain|2009-08-23 12:00:00|    11|2009|       4|          20|\n|Circuit de Spa-Fr...|        13|        spa|         Spa|  Belgium|2009-08-30 12:00:00|    12|2009|     401|       18446|\n|Autodromo Naziona...|        14|      monza|       Monza|    Italy|2009-09-13 12:00:00|    13|2009|     162|        9882|\n|Marina Bay Street...|        15| marina_bay|  Marina Bay|Singapore|2009-09-27 12:00:00|    14|2009|      18|         234|\n|      Suzuka Circuit|        22|     suzuka|      Suzuka|    Japan|2009-10-04 05:00:00|    15|2009|      45|        1440|\n|Autódromo José Ca...|        18| interlagos|   São Paulo|   Brazil|2009-10-18 16:00:00|    16|2009|     785|       29830|\n|  Yas Marina Circuit|        24| yas_marina|   Abu Dhabi|      UAE|2009-11-01 11:00:00|    17|2009|       3|          39|\n|Albert Park Grand...|         1|albert_park|   Melbourne|Australia|2008-03-16 04:30:00|    18|2008|      10|         250|\n|Sepang Internatio...|         2|     sepang|Kuala Lumpur| Malaysia|2008-03-23 07:00:00|    19|2008|      18|         342|\n|Bahrain Internati...|         3|    bahrain|      Sakhir|  Bahrain|2008-04-06 11:30:00|    20|2008|       7|         126|\n+--------------------+----------+-----------+------------+---------+-------------------+------+----+--------+------------+\nonly showing top 20 rows\n\n"
     ]
    }
   ],
   "source": [
    "results_df = select_join_df.join(result_df, on=\"name\", how=\"left\")\n",
    "results_df.show()"
   ]
  },
  {
   "cell_type": "markdown",
   "metadata": {
    "application/vnd.databricks.v1+cell": {
     "cellMetadata": {
      "byteLimit": 2048000,
      "rowLimit": 10000
     },
     "inputWidgets": {},
     "nuid": "0f80608d-d1ff-47a8-8e61-897d1e648a8c",
     "showTitle": false,
     "title": ""
    }
   },
   "source": [
    "#### Rank the rows based on year of each name using Window Method  "
   ]
  },
  {
   "cell_type": "code",
   "execution_count": 0,
   "metadata": {
    "application/vnd.databricks.v1+cell": {
     "cellMetadata": {
      "byteLimit": 2048000,
      "rowLimit": 10000
     },
     "inputWidgets": {},
     "nuid": "ec4e6f40-3ea6-4381-9c2e-4687665dfcfd",
     "showTitle": false,
     "title": ""
    }
   },
   "outputs": [
    {
     "output_type": "stream",
     "name": "stdout",
     "output_type": "stream",
     "text": [
      "+--------------------+----------+-----------+---------+---------+-------------------+------+----+--------+------------+----+\n|                name|circuit_id|circuit_ref| location|  country|     race_timestamp|raceId|year|altitude|sum_altitude|rank|\n+--------------------+----------+-----------+---------+---------+-------------------+------+----+--------+------------+----+\n|  Yas Marina Circuit|        24| yas_marina|Abu Dhabi|      UAE|2021-12-12 13:00:00|  1073|2021|       3|          39|   1|\n|  Yas Marina Circuit|        24| yas_marina|Abu Dhabi|      UAE|2020-12-13 13:10:00|  1047|2020|       3|          39|   2|\n|  Yas Marina Circuit|        24| yas_marina|Abu Dhabi|      UAE|2019-12-01 13:10:00|  1030|2019|       3|          39|   3|\n|  Yas Marina Circuit|        24| yas_marina|Abu Dhabi|      UAE|2018-11-25 13:10:00|  1009|2018|       3|          39|   4|\n|  Yas Marina Circuit|        24| yas_marina|Abu Dhabi|      UAE|2017-11-26 13:00:00|   988|2017|       3|          39|   5|\n|  Yas Marina Circuit|        24| yas_marina|Abu Dhabi|      UAE|2016-11-27 13:00:00|   968|2016|       3|          39|   6|\n|  Yas Marina Circuit|        24| yas_marina|Abu Dhabi|      UAE|2015-11-29 13:00:00|   945|2015|       3|          39|   7|\n|  Yas Marina Circuit|        24| yas_marina|Abu Dhabi|      UAE|2014-11-23 13:00:00|   918|2014|       3|          39|   8|\n|  Yas Marina Circuit|        24| yas_marina|Abu Dhabi|      UAE|2013-11-03 13:00:00|   897|2013|       3|          39|   9|\n|  Yas Marina Circuit|        24| yas_marina|Abu Dhabi|      UAE|2012-11-04 13:00:00|   877|2012|       3|          39|  10|\n|  Yas Marina Circuit|        24| yas_marina|Abu Dhabi|      UAE|2011-11-13 13:00:00|   858|2011|       3|          39|  11|\n|  Yas Marina Circuit|        24| yas_marina|Abu Dhabi|      UAE|2010-11-14 13:00:00|   355|2010|       3|          39|  12|\n|  Yas Marina Circuit|        24| yas_marina|Abu Dhabi|      UAE|2009-11-01 11:00:00|    17|2009|       3|          39|  13|\n|Adelaide Street C...|        29|   adelaide| Adelaide|Australia|               null|   256|1995|      58|         638|   1|\n|Adelaide Street C...|        29|   adelaide| Adelaide|Australia|               null|   272|1994|      58|         638|   2|\n|Adelaide Street C...|        29|   adelaide| Adelaide|Australia|               null|   288|1993|      58|         638|   3|\n|Adelaide Street C...|        29|   adelaide| Adelaide|Australia|               null|   304|1992|      58|         638|   4|\n|Adelaide Street C...|        29|   adelaide| Adelaide|Australia|               null|   320|1991|      58|         638|   5|\n|Adelaide Street C...|        29|   adelaide| Adelaide|Australia|               null|   336|1990|      58|         638|   6|\n|Adelaide Street C...|        29|   adelaide| Adelaide|Australia|               null|   371|1989|      58|         638|   7|\n+--------------------+----------+-----------+---------+---------+-------------------+------+----+--------+------------+----+\nonly showing top 20 rows\n\n"
     ]
    }
   ],
   "source": [
    "from pyspark.sql.window import Window\n",
    "from pyspark.sql.functions import desc, rank\n",
    "\n",
    "driverRankSpec = Window.partitionBy(\"location\").orderBy(desc(\"year\"))\n",
    "window_results_df = results_df.withColumn(\"rank\",rank().over(driverRankSpec))\n",
    "window_results_df.show()"
   ]
  },
  {
   "cell_type": "code",
   "execution_count": 0,
   "metadata": {
    "application/vnd.databricks.v1+cell": {
     "cellMetadata": {
      "byteLimit": 2048000,
      "rowLimit": 10000
     },
     "inputWidgets": {},
     "nuid": "f1929f89-c63f-4f80-a5e0-9809915a5640",
     "showTitle": false,
     "title": ""
    }
   },
   "outputs": [],
   "source": [
    "# Register the window_results_df as a temporary SQL table\n",
    "window_results_df.createOrReplaceTempView(\"ranked_table\")"
   ]
  },
  {
   "cell_type": "markdown",
   "metadata": {
    "application/vnd.databricks.v1+cell": {
     "cellMetadata": {
      "byteLimit": 2048000,
      "rowLimit": 10000
     },
     "inputWidgets": {},
     "nuid": "b5067466-1d5d-4f85-aca4-a7881e4c281f",
     "showTitle": false,
     "title": ""
    }
   },
   "source": [
    "#### Limit ranks to 10 using SQL"
   ]
  },
  {
   "cell_type": "code",
   "execution_count": 0,
   "metadata": {
    "application/vnd.databricks.v1+cell": {
     "cellMetadata": {
      "byteLimit": 2048000,
      "rowLimit": 10000
     },
     "inputWidgets": {},
     "nuid": "fbb6a5da-122a-449b-b339-bdf8ed194fb4",
     "showTitle": false,
     "title": ""
    }
   },
   "outputs": [
    {
     "output_type": "stream",
     "name": "stdout",
     "output_type": "stream",
     "text": [
      "+--------------------+----------+-----------+---------+---------+-------------------+------+----+--------+------------+----+\n|                name|circuit_id|circuit_ref| location|  country|     race_timestamp|raceId|year|altitude|sum_altitude|rank|\n+--------------------+----------+-----------+---------+---------+-------------------+------+----+--------+------------+----+\n|  Yas Marina Circuit|        24| yas_marina|Abu Dhabi|      UAE|2021-12-12 13:00:00|  1073|2021|       3|          39|   1|\n|  Yas Marina Circuit|        24| yas_marina|Abu Dhabi|      UAE|2020-12-13 13:10:00|  1047|2020|       3|          39|   2|\n|  Yas Marina Circuit|        24| yas_marina|Abu Dhabi|      UAE|2019-12-01 13:10:00|  1030|2019|       3|          39|   3|\n|  Yas Marina Circuit|        24| yas_marina|Abu Dhabi|      UAE|2018-11-25 13:10:00|  1009|2018|       3|          39|   4|\n|  Yas Marina Circuit|        24| yas_marina|Abu Dhabi|      UAE|2017-11-26 13:00:00|   988|2017|       3|          39|   5|\n|  Yas Marina Circuit|        24| yas_marina|Abu Dhabi|      UAE|2016-11-27 13:00:00|   968|2016|       3|          39|   6|\n|  Yas Marina Circuit|        24| yas_marina|Abu Dhabi|      UAE|2015-11-29 13:00:00|   945|2015|       3|          39|   7|\n|  Yas Marina Circuit|        24| yas_marina|Abu Dhabi|      UAE|2014-11-23 13:00:00|   918|2014|       3|          39|   8|\n|  Yas Marina Circuit|        24| yas_marina|Abu Dhabi|      UAE|2013-11-03 13:00:00|   897|2013|       3|          39|   9|\n|  Yas Marina Circuit|        24| yas_marina|Abu Dhabi|      UAE|2012-11-04 13:00:00|   877|2012|       3|          39|  10|\n|Adelaide Street C...|        29|   adelaide| Adelaide|Australia|               null|   256|1995|      58|         638|   1|\n|Adelaide Street C...|        29|   adelaide| Adelaide|Australia|               null|   272|1994|      58|         638|   2|\n|Adelaide Street C...|        29|   adelaide| Adelaide|Australia|               null|   288|1993|      58|         638|   3|\n|Adelaide Street C...|        29|   adelaide| Adelaide|Australia|               null|   304|1992|      58|         638|   4|\n|Adelaide Street C...|        29|   adelaide| Adelaide|Australia|               null|   320|1991|      58|         638|   5|\n|Adelaide Street C...|        29|   adelaide| Adelaide|Australia|               null|   336|1990|      58|         638|   6|\n|Adelaide Street C...|        29|   adelaide| Adelaide|Australia|               null|   371|1989|      58|         638|   7|\n|Adelaide Street C...|        29|   adelaide| Adelaide|Australia|               null|   387|1988|      58|         638|   8|\n|Adelaide Street C...|        29|   adelaide| Adelaide|Australia|               null|   403|1987|      58|         638|   9|\n|Adelaide Street C...|        29|   adelaide| Adelaide|Australia|               null|   419|1986|      58|         638|  10|\n+--------------------+----------+-----------+---------+---------+-------------------+------+----+--------+------------+----+\nonly showing top 20 rows\n\n"
     ]
    }
   ],
   "source": [
    " sql_query = \"\"\"\n",
    "    SELECT *\n",
    "    FROM ranked_table\n",
    "    WHERE rank<11\n",
    "\"\"\"\n",
    "\n",
    "grouped_df = spark.sql(sql_query)\n",
    "grouped_df.show()"
   ]
  },
  {
   "cell_type": "code",
   "execution_count": 0,
   "metadata": {
    "application/vnd.databricks.v1+cell": {
     "cellMetadata": {
      "byteLimit": 2048000,
      "rowLimit": 10000
     },
     "inputWidgets": {},
     "nuid": "c951b7ee-61b5-4ff0-9fdb-e4b81d390a45",
     "showTitle": false,
     "title": ""
    }
   },
   "outputs": [],
   "source": [
    "grouped_df.write.mode(\"overwrite\").csv(\"abfss://container@arianazuredl1.dfs.core.windows.net/processed/transformed\")"
   ]
  }
 ],
 "metadata": {
  "application/vnd.databricks.v1+notebook": {
   "dashboards": [],
   "language": "python",
   "notebookMetadata": {
    "pythonIndentUnit": 4
   },
   "notebookName": "app_adls_transform",
   "widgets": {}
  }
 },
 "nbformat": 4,
 "nbformat_minor": 0
}
